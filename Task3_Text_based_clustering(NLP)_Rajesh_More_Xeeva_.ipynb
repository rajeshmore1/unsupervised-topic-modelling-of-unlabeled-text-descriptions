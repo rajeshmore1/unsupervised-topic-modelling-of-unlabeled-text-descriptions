{
  "nbformat": 4,
  "nbformat_minor": 0,
  "metadata": {
    "colab": {
      "name": "Task3: Text based clustering(NLP)- Rajesh More-Xeeva .ipynb",
      "provenance": [],
      "mount_file_id": "19hyn0D2o-x_h4M5IGxjvfM7rytG5lJOr",
      "authorship_tag": "ABX9TyPv5+zuHa3YrUvgoT9wjGnt",
      "include_colab_link": true
    },
    "kernelspec": {
      "name": "python3",
      "display_name": "Python 3"
    }
  },
  "cells": [
    {
      "cell_type": "markdown",
      "metadata": {
        "id": "view-in-github",
        "colab_type": "text"
      },
      "source": [
        "<a href=\"https://colab.research.google.com/github/rajeshmore1/unsupervised-topic-modelling-of-unlabeled-text-descriptions/blob/main/Task3_Text_based_clustering(NLP)_Rajesh_More_Xeeva_.ipynb\" target=\"_parent\"><img src=\"https://colab.research.google.com/assets/colab-badge.svg\" alt=\"Open In Colab\"/></a>"
      ]
    },
    {
      "cell_type": "markdown",
      "metadata": {
        "id": "exNKxGySRnsp"
      },
      "source": [
        "#Text based clustering (NLP) : Perform unsupervised topic modelling of unlabeled text descriptions\n",
        "\n",
        "A.Perform preprocessing and cleaning  text data \n",
        "\n",
        "B.Execute feature engineering method to extract text features (use TF-IDF or BOW or any other appropriate method)\n",
        "\n",
        "C.Run topic modelling clustering algorithm to label text descriptions with proper category\n"
      ]
    },
    {
      "cell_type": "code",
      "metadata": {
        "id": "edrUCFF4PyhU"
      },
      "source": [
        "import numpy as np\n",
        "import pandas as pd\n",
        "from IPython.display import display\n",
        "from tqdm import tqdm\n",
        "from collections import Counter\n",
        "import ast\n",
        "\n",
        "import matplotlib.pyplot as plt\n",
        "import matplotlib.mlab as mlab\n",
        "import seaborn as sb\n",
        "\n",
        "from sklearn.feature_extraction.text import CountVectorizer\n",
        "from textblob import TextBlob\n",
        "import scipy.stats as stats\n",
        "\n",
        "from sklearn.decomposition import TruncatedSVD\n",
        "from sklearn.decomposition import LatentDirichletAllocation\n",
        "from sklearn.manifold import TSNE\n",
        "\n",
        "\n",
        "\n",
        "%matplotlib inline"
      ],
      "execution_count": null,
      "outputs": []
    },
    {
      "cell_type": "code",
      "metadata": {
        "colab": {
          "base_uri": "https://localhost:8080/"
        },
        "id": "NhwoLlx52ixO",
        "outputId": "9bdbd48e-542a-4955-a87e-ff51b568ad7c"
      },
      "source": [
        "import nltk\n",
        "nltk.download('stopwords')"
      ],
      "execution_count": null,
      "outputs": [
        {
          "output_type": "stream",
          "text": [
            "[nltk_data] Downloading package stopwords to /root/nltk_data...\n",
            "[nltk_data]   Package stopwords is already up-to-date!\n"
          ],
          "name": "stdout"
        },
        {
          "output_type": "execute_result",
          "data": {
            "text/plain": [
              "True"
            ]
          },
          "metadata": {
            "tags": []
          },
          "execution_count": 46
        }
      ]
    },
    {
      "cell_type": "code",
      "metadata": {
        "id": "yOfyY9Ma0SBR"
      },
      "source": [
        "df = pd.read_excel(\"/content/drive/MyDrive/Xeeva/Assignment-2/Data/DocumentsData.xlsx\")\n",
        "df = df.rename(columns={'Doc Name': 'DocName'})"
      ],
      "execution_count": null,
      "outputs": []
    },
    {
      "cell_type": "code",
      "metadata": {
        "colab": {
          "base_uri": "https://localhost:8080/",
          "height": 204
        },
        "id": "SIfMuppt0oIG",
        "outputId": "f1d6876d-f247-4e10-a91d-c02c15216769"
      },
      "source": [
        "df.head()"
      ],
      "execution_count": null,
      "outputs": [
        {
          "output_type": "execute_result",
          "data": {
            "text/html": [
              "<div>\n",
              "<style scoped>\n",
              "    .dataframe tbody tr th:only-of-type {\n",
              "        vertical-align: middle;\n",
              "    }\n",
              "\n",
              "    .dataframe tbody tr th {\n",
              "        vertical-align: top;\n",
              "    }\n",
              "\n",
              "    .dataframe thead th {\n",
              "        text-align: right;\n",
              "    }\n",
              "</style>\n",
              "<table border=\"1\" class=\"dataframe\">\n",
              "  <thead>\n",
              "    <tr style=\"text-align: right;\">\n",
              "      <th></th>\n",
              "      <th>Id</th>\n",
              "      <th>DocName</th>\n",
              "    </tr>\n",
              "  </thead>\n",
              "  <tbody>\n",
              "    <tr>\n",
              "      <th>0</th>\n",
              "      <td>1</td>\n",
              "      <td>Nozzle, 220542</td>\n",
              "    </tr>\n",
              "    <tr>\n",
              "      <th>1</th>\n",
              "      <td>2</td>\n",
              "      <td>Value Collection 15 Inch Long x 12 Inch Wide x...</td>\n",
              "    </tr>\n",
              "    <tr>\n",
              "      <th>2</th>\n",
              "      <td>3</td>\n",
              "      <td>Made in USA 18 Inch Long x 13 Inch Wide x 4 mi...</td>\n",
              "    </tr>\n",
              "    <tr>\n",
              "      <th>3</th>\n",
              "      <td>4</td>\n",
              "      <td>8\"W x 10\"L 4mil Clear Reclosable Bag</td>\n",
              "    </tr>\n",
              "    <tr>\n",
              "      <th>4</th>\n",
              "      <td>5</td>\n",
              "      <td>Value Collection 12 Inch Long x 9 Inch Wide x ...</td>\n",
              "    </tr>\n",
              "  </tbody>\n",
              "</table>\n",
              "</div>"
            ],
            "text/plain": [
              "   Id                                            DocName\n",
              "0   1                                     Nozzle, 220542\n",
              "1   2  Value Collection 15 Inch Long x 12 Inch Wide x...\n",
              "2   3  Made in USA 18 Inch Long x 13 Inch Wide x 4 mi...\n",
              "3   4               8\"W x 10\"L 4mil Clear Reclosable Bag\n",
              "4   5  Value Collection 12 Inch Long x 9 Inch Wide x ..."
            ]
          },
          "metadata": {
            "tags": []
          },
          "execution_count": 48
        }
      ]
    },
    {
      "cell_type": "code",
      "metadata": {
        "id": "Qh--c3nB2u1T"
      },
      "source": [
        "import nltk\n",
        "STOPWORDS = nltk.corpus.stopwords.words('english')"
      ],
      "execution_count": null,
      "outputs": []
    },
    {
      "cell_type": "code",
      "metadata": {
        "id": "KxiTK-Wu223p"
      },
      "source": [
        "STOPWORDS = set(STOPWORDS)\n",
        "#STOPWORDS = STOPWORDS.words('english')\n",
        "\n",
        "    \n",
        "def text_prepare(text, STOPWORDS):\n",
        "    \"\"\"\n",
        "        text: a string\n",
        "        \n",
        "        return: a clean string\n",
        "    \"\"\"\n",
        "    REPLACE_BY_SPACE_RE = re.compile('[\\n\\\"\\'/(){}\\[\\]\\|@,;#]')\n",
        "    text = re.sub(REPLACE_BY_SPACE_RE, ' ', text)\n",
        "    text = re.sub(' +', ' ', text)\n",
        "    text = text.lower()\n",
        "\n",
        "    # delete stopwords from text\n",
        "    text = ' '.join([word for word in text.split() if word not in STOPWORDS]) \n",
        "    text = text.strip()\n",
        "    return text"
      ],
      "execution_count": null,
      "outputs": []
    },
    {
      "cell_type": "code",
      "metadata": {
        "id": "8ixVLnCG26Vo"
      },
      "source": [
        "import re # for regular expressions\n",
        "\n",
        "df['docname'] = df['DocName'].apply(lambda x: text_prepare(x,STOPWORDS))"
      ],
      "execution_count": null,
      "outputs": []
    },
    {
      "cell_type": "code",
      "metadata": {
        "id": "YdO7qbbV3JOn"
      },
      "source": [
        "newdf = df.docname"
      ],
      "execution_count": null,
      "outputs": []
    },
    {
      "cell_type": "code",
      "metadata": {
        "colab": {
          "base_uri": "https://localhost:8080/"
        },
        "id": "AkJfQXhJGBzg",
        "outputId": "21a88840-d5ef-4bb5-d229-9827449add8f"
      },
      "source": [
        "newdf.head(3)"
      ],
      "execution_count": null,
      "outputs": [
        {
          "output_type": "execute_result",
          "data": {
            "text/plain": [
              "0                                        nozzle 220542\n",
              "1    value collection 15 inch long x 12 inch wide x...\n",
              "2    made usa 18 inch long x 13 inch wide x 4 mil t...\n",
              "Name: docname, dtype: object"
            ]
          },
          "metadata": {
            "tags": []
          },
          "execution_count": 53
        }
      ]
    },
    {
      "cell_type": "code",
      "metadata": {
        "id": "pnhB-xqE0sV8"
      },
      "source": [
        "# Define helper functions\n",
        "def get_top_n_words(n_top_words, count_vectorizer, text_data):\n",
        "    '''\n",
        "    returns a tuple of the top n words in a sample and their \n",
        "    accompanying counts, given a CountVectorizer object and text sample\n",
        "    '''\n",
        "    vectorized_headlines = count_vectorizer.fit_transform(text_data.values)\n",
        "    vectorized_total = np.sum(vectorized_headlines, axis=0)\n",
        "    word_indices = np.flip(np.argsort(vectorized_total)[0,:], 1)\n",
        "    word_values = np.flip(np.sort(vectorized_total)[0,:],1)\n",
        "    \n",
        "    word_vectors = np.zeros((n_top_words, vectorized_headlines.shape[1]))\n",
        "    for i in range(n_top_words):\n",
        "        word_vectors[i,word_indices[0,i]] = 1\n",
        "\n",
        "    words = [word[0].encode('ascii').decode('utf-8') for \n",
        "             word in count_vectorizer.inverse_transform(word_vectors)]\n",
        "\n",
        "    return (words, word_values[0,:n_top_words].tolist()[0])"
      ],
      "execution_count": null,
      "outputs": []
    },
    {
      "cell_type": "code",
      "metadata": {
        "colab": {
          "base_uri": "https://localhost:8080/",
          "height": 535
        },
        "id": "jA7TApsR13en",
        "outputId": "50fdf07b-dea3-4a18-b2bc-3b434407747a"
      },
      "source": [
        "count_vectorizer = CountVectorizer(stop_words='english')\n",
        "words, word_values = get_top_n_words(n_top_words=15,\n",
        "                                     count_vectorizer=count_vectorizer, \n",
        "                                     text_data=newdf)\n",
        "\n",
        "fig, ax = plt.subplots(figsize=(16,8))\n",
        "ax.bar(range(len(words)), word_values)\n",
        "ax.set_xticks(range(len(words)))\n",
        "ax.set_xticklabels(words, rotation='vertical')\n",
        "ax.set_title('Top words in headlines dataset (excluding stop words)')\n",
        "ax.set_xlabel('Word')\n",
        "ax.set_ylabel('Number of occurences')\n",
        "plt.show()"
      ],
      "execution_count": null,
      "outputs": [
        {
          "output_type": "display_data",
          "data": {
            "image/png": "[encoded data removed]",
            "text/plain": [
              "<Figure size 1152x576 with 1 Axes>"
            ]
          },
          "metadata": {
            "tags": [],
            "needs_background": "light"
          }
        }
      ]
    },
    {
      "cell_type": "code",
      "metadata": {
        "id": "fpej7MfnMv5j"
      },
      "source": [
        "# Creating a vectorizer\n",
        "vectorizer = CountVectorizer(min_df=5, max_df=0.9, stop_words='english', lowercase=True, token_pattern='[a-zA-Z\\-][a-zA-Z\\-]{2,}')\n",
        "data_vectorized = vectorizer.fit_transform(df[\"DocName\"])"
      ],
      "execution_count": null,
      "outputs": []
    },
    {
      "cell_type": "code",
      "metadata": {
        "id": "B5ldralCM6H9"
      },
      "source": [
        "NUM_TOPICS = 10\n"
      ],
      "execution_count": null,
      "outputs": []
    },
    {
      "cell_type": "code",
      "metadata": {
        "colab": {
          "base_uri": "https://localhost:8080/"
        },
        "id": "oQpqnRRkM-aW",
        "outputId": "4aa22e8f-4617-4dc8-c15d-f30033c6c326"
      },
      "source": [
        "# Latent Dirichlet Allocation Model\n",
        "lda = LatentDirichletAllocation(n_components=NUM_TOPICS, max_iter=10, learning_method='online',verbose=True)\n",
        "data_lda = lda.fit_transform(data_vectorized)"
      ],
      "execution_count": null,
      "outputs": [
        {
          "output_type": "stream",
          "text": [
            "iteration: 1 of max_iter: 10\n",
            "iteration: 2 of max_iter: 10\n",
            "iteration: 3 of max_iter: 10\n",
            "iteration: 4 of max_iter: 10\n",
            "iteration: 5 of max_iter: 10\n",
            "iteration: 6 of max_iter: 10\n",
            "iteration: 7 of max_iter: 10\n",
            "iteration: 8 of max_iter: 10\n",
            "iteration: 9 of max_iter: 10\n",
            "iteration: 10 of max_iter: 10\n"
          ],
          "name": "stdout"
        }
      ]
    },
    {
      "cell_type": "code",
      "metadata": {
        "id": "l7g3K7ZqNQoy"
      },
      "source": [
        "from sklearn.decomposition import NMF, LatentDirichletAllocation, TruncatedSVD"
      ],
      "execution_count": null,
      "outputs": []
    },
    {
      "cell_type": "code",
      "metadata": {
        "id": "PsUbhP-RNFga"
      },
      "source": [
        "# Non-Negative Matrix Factorization Model\n",
        "nmf = NMF(n_components=NUM_TOPICS)\n",
        "data_nmf = nmf.fit_transform(data_vectorized) "
      ],
      "execution_count": null,
      "outputs": []
    },
    {
      "cell_type": "code",
      "metadata": {
        "id": "jOk0XjZgNYG7"
      },
      "source": [
        "# Latent Semantic Indexing Model using Truncated SVD\n",
        "lsi = TruncatedSVD(n_components=NUM_TOPICS)\n",
        "data_lsi = lsi.fit_transform(data_vectorized)"
      ],
      "execution_count": null,
      "outputs": []
    },
    {
      "cell_type": "code",
      "metadata": {
        "id": "yNx5jhtON9ae"
      },
      "source": [
        "# Functions for printing keywords for each topic\n",
        "def selected_topics(model, vectorizer, top_n=10):\n",
        "    for idx, topic in enumerate(model.components_):\n",
        "        print(\"Topic %d:\" % (idx))\n",
        "        print([(vectorizer.get_feature_names()[i], topic[i])\n",
        "                        for i in topic.argsort()[:-top_n - 1:-1]]) "
      ],
      "execution_count": null,
      "outputs": []
    },
    {
      "cell_type": "code",
      "metadata": {
        "colab": {
          "base_uri": "https://localhost:8080/"
        },
        "id": "XRONo5vhOBVD",
        "outputId": "a12d3b94-336f-4afe-96a9-5645927d8fae"
      },
      "source": [
        "# Keywords for topics clustered by Latent Dirichlet Allocation\n",
        "print(\"LDA Model:\")\n",
        "selected_topics(lda, vectorizer)"
      ],
      "execution_count": null,
      "outputs": [
        {
          "output_type": "stream",
          "text": [
            "LDA Model:\n",
            "Topic 0:\n",
            "[('grade', 23.13542330148543), ('oxide', 22.668536063070334), ('aluminum', 22.638119173803375), ('grit', 19.628506548442445), ('max', 19.071718624370426), ('disc', 18.408563362479534), ('diam', 17.09572943859911), ('rpm', 16.821016520752526), ('fine', 15.429547086535578), ('type', 15.019039210722084)]\n",
            "Topic 1:\n",
            "[('steel', 107.56562087208734), ('screw', 81.67695978204522), ('socket', 80.40887835307512), ('drive', 79.46449190266397), ('head', 74.44472653594036), ('hex', 74.14438376401758), ('cap', 67.6463849867675), ('grade', 52.07548439042587), ('stainless', 52.05812112459026), ('alloy', 47.26632348669209)]\n",
            "Topic 2:\n",
            "[('blade', 18.838227006429793), ('min', 6.146474686176225), ('reciprocating', 5.688900014239201), ('knife', 5.643672993236588), ('saw', 5.618285230144067), ('steel', 5.057771670380151), ('qty', 4.7217699436623795), ('oal', 4.593167703449413), ('carbon', 3.0373678716014414), ('handle', 2.415883959054751)]\n",
            "Topic 3:\n",
            "[('cut', 19.15468939947463), ('diam', 15.595498167095885), ('size', 15.214895688072676), ('type', 12.76082660411954), ('length', 11.596207915077205), ('thread', 11.178095717266011), ('gloves', 10.448470817306196), ('hand', 9.936033664007883), ('shank', 8.28000602812976), ('series', 8.036510158333654)]\n",
            "Topic 4:\n",
            "[('point', 158.16419081353257), ('drill', 143.5341040226321), ('jobber', 142.65513647219248), ('split', 142.2603061752167), ('cobalt', 141.99885915148664), ('finish', 141.75883501251255), ('gold', 122.36587633524968), ('ltr', 25.90849820282173), ('duty', 20.545248103631298), ('heavy', 20.536600277602098)]\n",
            "Topic 5:\n",
            "[('size', 17.885046892630598), ('white', 17.52696883026102), ('general', 9.598007090476079), ('shell', 9.171246245973833), ('color', 8.798238262283808), ('purpose', 8.72555677862252), ('coated', 8.461347909911701), ('palm', 7.322018450609992), ('din', 6.98641484737261), ('nitrile', 6.5117172584612275)]\n",
            "Topic 6:\n",
            "[('finish', 60.44663220713018), ('steel', 49.68583173361367), ('flat', 32.9277222113461), ('zinc', 30.676460392438273), ('washer', 25.416602398892458), ('astm', 20.518073169453846), ('carbon', 18.078396028013113), ('low', 17.976796994636025), ('oxide', 17.488018749410333), ('black', 16.41304105982159)]\n",
            "Topic 7:\n",
            "[('inch', 47.49395824686473), ('nylon', 19.53330915052186), ('long', 17.198511097344866), ('wide', 13.632324456523065), ('insert', 11.12601633929522), ('lock', 11.076075983304094), ('length', 10.678662949632699), ('grade', 8.9921697572374), ('overall', 8.115069248679294), ('cable', 7.309711111961413)]\n",
            "Topic 8:\n",
            "[('class', 9.405792016703508), ('red', 5.42905324490151), ('purpose', 3.9634242776908573), ('general', 3.960240267766907), ('volt', 3.2995753012097238), ('open', 2.610500012473554), ('standard', 2.4288503965585404), ('button', 1.8555909690725148), ('protection', 0.9982026078500061), ('size', 0.9898413402556435)]\n",
            "Topic 9:\n",
            "[('black', 7.090495589423625), ('clear', 6.383284118464401), ('wire', 6.382868443232498), ('marker', 6.106882927560496), ('safety', 5.535227702363525), ('resistant', 5.491524585492547), ('frame', 5.42191351596479), ('vinyl', 5.125471512356054), ('glasses', 4.636196556156575), ('protection', 4.635318650977831)]\n"
          ],
          "name": "stdout"
        }
      ]
    },
    {
      "cell_type": "code",
      "metadata": {
        "colab": {
          "base_uri": "https://localhost:8080/"
        },
        "id": "9vaeuPheOIN1",
        "outputId": "acc9285a-a785-4d3c-d4ec-746f8a608304"
      },
      "source": [
        "# Keywords for topics clustered by Latent Semantic Indexing\n",
        "print(\"NMF Model:\")\n",
        "selected_topics(nmf, vectorizer)"
      ],
      "execution_count": null,
      "outputs": [
        {
          "output_type": "stream",
          "text": [
            "NMF Model:\n",
            "Topic 0:\n",
            "[('gold', 2.2228913020024397), ('finish', 2.2146564334503274), ('point', 2.2128648604486334), ('drill', 2.2070826185744097), ('jobber', 2.2048382655694034), ('split', 2.2019761076408577), ('cobalt', 2.2007529884304775), ('ltr', 0.5174440472761002), ('type', 0.013782918630070926), ('metal', 0.010343640632260847)]\n",
            "Topic 1:\n",
            "[('screw', 1.6382259229881362), ('hex', 1.5625713605602312), ('cap', 1.5322697944718435), ('finish', 1.4968922727920817), ('black', 1.4837367787998943), ('steel', 1.4322281679204805), ('alloy', 1.4046197655136892), ('oxide', 1.3987116803900614), ('socket', 1.3143618416630807), ('astm', 1.221695748519425)]\n",
            "Topic 2:\n",
            "[('steel', 2.1730456979676505), ('stainless', 2.1549182021452937), ('screw', 2.1417725959347895), ('grade', 2.132628366891222), ('head', 1.894338664153532), ('phillips', 1.6630167874090447), ('drive', 1.6092654519635987), ('pan', 1.5091811141757236), ('sheet', 0.9308140043687027), ('metal', 0.9267628858219119)]\n",
            "Topic 3:\n",
            "[('inch', 2.984486063011414), ('length', 1.073248509884622), ('thread', 0.7099352084143047), ('hand', 0.6971576043893668), ('long', 0.6283990766742681), ('overall', 0.5905146688993529), ('wide', 0.5620896203069632), ('straight', 0.536369375584104), ('standard', 0.5239460605790748), ('handle', 0.4215253961443132)]\n",
            "Topic 4:\n",
            "[('grade', 1.367943837623736), ('aluminum', 1.260963246454131), ('oxide', 1.2338458846169729), ('disc', 1.0528121174372587), ('max', 1.0495639588980568), ('diam', 1.0409437099538046), ('rpm', 1.0312170651699637), ('type', 0.9974349192867722), ('change', 0.9574194414901033), ('quick', 0.9574194414901033)]\n",
            "Topic 5:\n",
            "[('steel', 1.6877137474392019), ('finish', 1.6785394343669315), ('zinc', 1.5634269796549407), ('washer', 1.212899834600505), ('carbon', 1.0675338709083912), ('low', 1.0218119204978242), ('flat', 0.8194784634177056), ('din', 0.6738429731973854), ('general', 0.5252127200682322), ('purpose', 0.5247157131881827)]\n",
            "Topic 6:\n",
            "[('socket', 3.1183430549051945), ('head', 1.7749622664339255), ('button', 1.7558192065188354), ('cap', 1.619284836889712), ('plain', 1.5686798383257599), ('alloy', 1.4897480202543043), ('steel', 1.4164585836276267), ('hex', 1.4099544527087597), ('drive', 1.3451192436255823), ('screws', 1.3394331056462476)]\n",
            "Topic 7:\n",
            "[('size', 1.801377122899673), ('ansi', 0.9125657172692558), ('white', 0.7830282310135805), ('type', 0.7588471420098204), ('gloves', 0.6467706173490062), ('resistant', 0.6466107913239656), ('black', 0.6434508044882642), ('protection', 0.5786778323794344), ('color', 0.5730380785334034), ('coated', 0.541736500545932)]\n",
            "Topic 8:\n",
            "[('heavy', 1.508289842538423), ('duty', 1.5025930620114134), ('oxide', 1.4874881458356055), ('straw', 1.4663446416654378), ('drill', 1.408351834889256), ('point', 1.4074226890065349), ('jobber', 1.4065755015469077), ('finish', 1.405869610121495), ('cobalt', 1.403647140134736), ('split', 1.4035785442201552)]\n",
            "Topic 9:\n",
            "[('cut', 2.168319492934344), ('diam', 1.405968408122731), ('shank', 0.6794465940081457), ('length', 0.6459478873625008), ('single', 0.6445691668755561), ('oal', 0.6167036962612793), ('carbide', 0.5787521459956749), ('point', 0.5059766528789041), ('thread', 0.1535336202472791), ('gray', 0.14867140106896046)]\n"
          ],
          "name": "stdout"
        }
      ]
    },
    {
      "cell_type": "code",
      "metadata": {
        "colab": {
          "base_uri": "https://localhost:8080/"
        },
        "id": "4eC02t88OSbk",
        "outputId": "d9848782-da4d-4862-910e-e46ddf55d8bb"
      },
      "source": [
        "# Keywords for topics clustered by Non-Negative Matrix Factorization\n",
        "print(\"LSI Model:\")\n",
        "selected_topics(lsi, vectorizer)"
      ],
      "execution_count": null,
      "outputs": [
        {
          "output_type": "stream",
          "text": [
            "LSI Model:\n",
            "Topic 0:\n",
            "[('finish', 0.4325144615474514), ('point', 0.3673533871628748), ('drill', 0.35410136198352066), ('jobber', 0.3537349757604793), ('split', 0.35347575423555894), ('cobalt', 0.35284953435102984), ('gold', 0.2983549293260931), ('steel', 0.12357137668306092), ('oxide', 0.09574240444909507), ('socket', 0.08100214212209411)]\n",
            "Topic 1:\n",
            "[('steel', 0.40736294703746906), ('socket', 0.3592666937010019), ('drive', 0.2849545048268317), ('cap', 0.27492986630581184), ('hex', 0.2734772372649621), ('screw', 0.26583868974232416), ('head', 0.24994232430000735), ('alloy', 0.2382753500906134), ('button', 0.15223336483149638), ('grade', 0.1482661212512114)]\n",
            "Topic 2:\n",
            "[('grade', 0.3422068002597156), ('inch', 0.288122979351055), ('type', 0.23632492482507345), ('stainless', 0.21611252578908036), ('steel', 0.2066472749750689), ('screw', 0.1654547719279349), ('phillips', 0.1589774098653331), ('diam', 0.15208217980234637), ('pan', 0.14321830677274325), ('length', 0.11479852211673436)]\n",
            "Topic 3:\n",
            "[('inch', 0.652657545609601), ('length', 0.26716040563622523), ('thread', 0.17186379627707268), ('hand', 0.16481211540100665), ('overall', 0.1323989668872759), ('long', 0.1297195143517321), ('straight', 0.12121793483381152), ('standard', 0.12041527564301985), ('wide', 0.11615649997411358), ('socket', 0.11412337815313987)]\n",
            "Topic 4:\n",
            "[('oxide', 0.38036132458543137), ('aluminum', 0.26194526065937124), ('diam', 0.2329702008778051), ('grade', 0.21448098550595437), ('disc', 0.21365335163751584), ('max', 0.21033170877845522), ('rpm', 0.20984525525684922), ('quick', 0.193429894138746), ('change', 0.193429894138746), ('fine', 0.19081924936658115)]\n",
            "Topic 5:\n",
            "[('finish', 0.33467694381096813), ('oxide', 0.2565174108962419), ('flat', 0.23280142629684872), ('zinc', 0.221391202032124), ('washer', 0.19902808910127776), ('black', 0.17241379447591162), ('carbon', 0.16802332001203635), ('low', 0.16539497446788012), ('astm', 0.15544919955328487), ('holokrome', 0.12437844305142624)]\n",
            "Topic 6:\n",
            "[('type', 0.24010403979009082), ('zinc', 0.22032462198827377), ('plain', 0.20676186323515894), ('low', 0.19217098076925596), ('button', 0.19121509069638173), ('carbon', 0.18916570221750953), ('screws', 0.18639102424806617), ('washer', 0.18114705895395455), ('socket', 0.15513654358480652), ('diam', 0.1549126180224889)]\n",
            "Topic 7:\n",
            "[('size', 0.40304094372028687), ('cut', 0.33668133725318067), ('black', 0.25534839778643975), ('ansi', 0.23030763077798996), ('type', 0.19797078542945792), ('white', 0.19246375260803567), ('resistant', 0.17504752100169516), ('gloves', 0.1697436681462499), ('color', 0.15889444451439763), ('coated', 0.13688614410348043)]\n",
            "Topic 8:\n",
            "[('heavy', 0.3499252910526817), ('duty', 0.34433588143170385), ('straw', 0.3035853683481703), ('oxide', 0.196662723941164), ('inch', 0.1605715680693572), ('long', 0.15308921732097663), ('size', 0.14568404647641764), ('head', 0.13537999698883063), ('wide', 0.13275632633846982), ('type', 0.12889334256160703)]\n",
            "Topic 9:\n",
            "[('cut', 0.333549512080423), ('straw', 0.23540578132800183), ('diam', 0.231522961995241), ('duty', 0.21327273072640515), ('heavy', 0.20870676003444266), ('length', 0.20692521458342447), ('thread', 0.1924727079232606), ('hand', 0.17553645372228915), ('shank', 0.16918256585734864), ('coarse', 0.12271302274323594)]\n"
          ],
          "name": "stdout"
        }
      ]
    },
    {
      "cell_type": "code",
      "metadata": {
        "colab": {
          "base_uri": "https://localhost:8080/"
        },
        "id": "hDEgys2WPSgY",
        "outputId": "92fe4061-e2ed-4b3f-ea6e-c9baeba4e10f"
      },
      "source": [
        "pip install pyldavis"
      ],
      "execution_count": null,
      "outputs": [
        {
          "output_type": "stream",
          "text": [
            "Collecting pyldavis\n",
            "\u001b[?25l  Downloading https://files.pythonhosted.org/packages/24/38/6d81eff34c84c9158d3b7c846bff978ac88b0c2665548941946d3d591158/pyLDAvis-3.2.2.tar.gz (1.7MB)\n",
            "\r\u001b[K     |▏                               | 10kB 14.1MB/s eta 0:00:01\r\u001b[K     |▍                               | 20kB 19.8MB/s eta 0:00:01\r\u001b[K     |▋                               | 30kB 13.0MB/s eta 0:00:01\r\u001b[K     |▉                               | 40kB 10.1MB/s eta 0:00:01\r\u001b[K     |█                               | 51kB 8.9MB/s eta 0:00:01\r\u001b[K     |█▏                              | 61kB 9.3MB/s eta 0:00:01\r\u001b[K     |█▍                              | 71kB 8.8MB/s eta 0:00:01\r\u001b[K     |█▋                              | 81kB 8.9MB/s eta 0:00:01\r\u001b[K     |█▉                              | 92kB 8.8MB/s eta 0:00:01\r\u001b[K     |██                              | 102kB 8.1MB/s eta 0:00:01\r\u001b[K     |██▏                             | 112kB 8.1MB/s eta 0:00:01\r\u001b[K     |██▍                             | 122kB 8.1MB/s eta 0:00:01\r\u001b[K     |██▋                             | 133kB 8.1MB/s eta 0:00:01\r\u001b[K     |██▉                             | 143kB 8.1MB/s eta 0:00:01\r\u001b[K     |███                             | 153kB 8.1MB/s eta 0:00:01\r\u001b[K     |███▏                            | 163kB 8.1MB/s eta 0:00:01\r\u001b[K     |███▍                            | 174kB 8.1MB/s eta 0:00:01\r\u001b[K     |███▋                            | 184kB 8.1MB/s eta 0:00:01\r\u001b[K     |███▊                            | 194kB 8.1MB/s eta 0:00:01\r\u001b[K     |████                            | 204kB 8.1MB/s eta 0:00:01\r\u001b[K     |████▏                           | 215kB 8.1MB/s eta 0:00:01\r\u001b[K     |████▍                           | 225kB 8.1MB/s eta 0:00:01\r\u001b[K     |████▋                           | 235kB 8.1MB/s eta 0:00:01\r\u001b[K     |████▊                           | 245kB 8.1MB/s eta 0:00:01\r\u001b[K     |█████                           | 256kB 8.1MB/s eta 0:00:01\r\u001b[K     |█████▏                          | 266kB 8.1MB/s eta 0:00:01\r\u001b[K     |█████▍                          | 276kB 8.1MB/s eta 0:00:01\r\u001b[K     |█████▋                          | 286kB 8.1MB/s eta 0:00:01\r\u001b[K     |█████▊                          | 296kB 8.1MB/s eta 0:00:01\r\u001b[K     |██████                          | 307kB 8.1MB/s eta 0:00:01\r\u001b[K     |██████▏                         | 317kB 8.1MB/s eta 0:00:01\r\u001b[K     |██████▍                         | 327kB 8.1MB/s eta 0:00:01\r\u001b[K     |██████▌                         | 337kB 8.1MB/s eta 0:00:01\r\u001b[K     |██████▊                         | 348kB 8.1MB/s eta 0:00:01\r\u001b[K     |███████                         | 358kB 8.1MB/s eta 0:00:01\r\u001b[K     |███████▏                        | 368kB 8.1MB/s eta 0:00:01\r\u001b[K     |███████▍                        | 378kB 8.1MB/s eta 0:00:01\r\u001b[K     |███████▌                        | 389kB 8.1MB/s eta 0:00:01\r\u001b[K     |███████▊                        | 399kB 8.1MB/s eta 0:00:01\r\u001b[K     |████████                        | 409kB 8.1MB/s eta 0:00:01\r\u001b[K     |████████▏                       | 419kB 8.1MB/s eta 0:00:01\r\u001b[K     |████████▍                       | 430kB 8.1MB/s eta 0:00:01\r\u001b[K     |████████▌                       | 440kB 8.1MB/s eta 0:00:01\r\u001b[K     |████████▊                       | 450kB 8.1MB/s eta 0:00:01\r\u001b[K     |█████████                       | 460kB 8.1MB/s eta 0:00:01\r\u001b[K     |█████████▏                      | 471kB 8.1MB/s eta 0:00:01\r\u001b[K     |█████████▎                      | 481kB 8.1MB/s eta 0:00:01\r\u001b[K     |█████████▌                      | 491kB 8.1MB/s eta 0:00:01\r\u001b[K     |█████████▊                      | 501kB 8.1MB/s eta 0:00:01\r\u001b[K     |██████████                      | 512kB 8.1MB/s eta 0:00:01\r\u001b[K     |██████████▏                     | 522kB 8.1MB/s eta 0:00:01\r\u001b[K     |██████████▎                     | 532kB 8.1MB/s eta 0:00:01\r\u001b[K     |██████████▌                     | 542kB 8.1MB/s eta 0:00:01\r\u001b[K     |██████████▊                     | 552kB 8.1MB/s eta 0:00:01\r\u001b[K     |███████████                     | 563kB 8.1MB/s eta 0:00:01\r\u001b[K     |███████████▏                    | 573kB 8.1MB/s eta 0:00:01\r\u001b[K     |███████████▎                    | 583kB 8.1MB/s eta 0:00:01\r\u001b[K     |███████████▌                    | 593kB 8.1MB/s eta 0:00:01\r\u001b[K     |███████████▊                    | 604kB 8.1MB/s eta 0:00:01\r\u001b[K     |████████████                    | 614kB 8.1MB/s eta 0:00:01\r\u001b[K     |████████████                    | 624kB 8.1MB/s eta 0:00:01\r\u001b[K     |████████████▎                   | 634kB 8.1MB/s eta 0:00:01\r\u001b[K     |████████████▌                   | 645kB 8.1MB/s eta 0:00:01\r\u001b[K     |████████████▊                   | 655kB 8.1MB/s eta 0:00:01\r\u001b[K     |█████████████                   | 665kB 8.1MB/s eta 0:00:01\r\u001b[K     |█████████████                   | 675kB 8.1MB/s eta 0:00:01\r\u001b[K     |█████████████▎                  | 686kB 8.1MB/s eta 0:00:01\r\u001b[K     |█████████████▌                  | 696kB 8.1MB/s eta 0:00:01\r\u001b[K     |█████████████▊                  | 706kB 8.1MB/s eta 0:00:01\r\u001b[K     |██████████████                  | 716kB 8.1MB/s eta 0:00:01\r\u001b[K     |██████████████                  | 727kB 8.1MB/s eta 0:00:01\r\u001b[K     |██████████████▎                 | 737kB 8.1MB/s eta 0:00:01\r\u001b[K     |██████████████▌                 | 747kB 8.1MB/s eta 0:00:01\r\u001b[K     |██████████████▊                 | 757kB 8.1MB/s eta 0:00:01\r\u001b[K     |██████████████▉                 | 768kB 8.1MB/s eta 0:00:01\r\u001b[K     |███████████████                 | 778kB 8.1MB/s eta 0:00:01\r\u001b[K     |███████████████▎                | 788kB 8.1MB/s eta 0:00:01\r\u001b[K     |███████████████▌                | 798kB 8.1MB/s eta 0:00:01\r\u001b[K     |███████████████▊                | 808kB 8.1MB/s eta 0:00:01\r\u001b[K     |███████████████▉                | 819kB 8.1MB/s eta 0:00:01\r\u001b[K     |████████████████                | 829kB 8.1MB/s eta 0:00:01\r\u001b[K     |████████████████▎               | 839kB 8.1MB/s eta 0:00:01\r\u001b[K     |████████████████▌               | 849kB 8.1MB/s eta 0:00:01\r\u001b[K     |████████████████▊               | 860kB 8.1MB/s eta 0:00:01\r\u001b[K     |████████████████▉               | 870kB 8.1MB/s eta 0:00:01\r\u001b[K     |█████████████████               | 880kB 8.1MB/s eta 0:00:01\r\u001b[K     |█████████████████▎              | 890kB 8.1MB/s eta 0:00:01\r\u001b[K     |█████████████████▌              | 901kB 8.1MB/s eta 0:00:01\r\u001b[K     |█████████████████▋              | 911kB 8.1MB/s eta 0:00:01\r\u001b[K     |█████████████████▉              | 921kB 8.1MB/s eta 0:00:01\r\u001b[K     |██████████████████              | 931kB 8.1MB/s eta 0:00:01\r\u001b[K     |██████████████████▎             | 942kB 8.1MB/s eta 0:00:01\r\u001b[K     |██████████████████▌             | 952kB 8.1MB/s eta 0:00:01\r\u001b[K     |██████████████████▋             | 962kB 8.1MB/s eta 0:00:01\r\u001b[K     |██████████████████▉             | 972kB 8.1MB/s eta 0:00:01\r\u001b[K     |███████████████████             | 983kB 8.1MB/s eta 0:00:01\r\u001b[K     |███████████████████▎            | 993kB 8.1MB/s eta 0:00:01\r\u001b[K     |███████████████████▌            | 1.0MB 8.1MB/s eta 0:00:01\r\u001b[K     |███████████████████▋            | 1.0MB 8.1MB/s eta 0:00:01\r\u001b[K     |███████████████████▉            | 1.0MB 8.1MB/s eta 0:00:01\r\u001b[K     |████████████████████            | 1.0MB 8.1MB/s eta 0:00:01\r\u001b[K     |████████████████████▎           | 1.0MB 8.1MB/s eta 0:00:01\r\u001b[K     |████████████████████▍           | 1.1MB 8.1MB/s eta 0:00:01\r\u001b[K     |████████████████████▋           | 1.1MB 8.1MB/s eta 0:00:01\r\u001b[K     |████████████████████▉           | 1.1MB 8.1MB/s eta 0:00:01\r\u001b[K     |█████████████████████           | 1.1MB 8.1MB/s eta 0:00:01\r\u001b[K     |█████████████████████▎          | 1.1MB 8.1MB/s eta 0:00:01\r\u001b[K     |█████████████████████▍          | 1.1MB 8.1MB/s eta 0:00:01\r\u001b[K     |█████████████████████▋          | 1.1MB 8.1MB/s eta 0:00:01\r\u001b[K     |█████████████████████▉          | 1.1MB 8.1MB/s eta 0:00:01\r\u001b[K     |██████████████████████          | 1.1MB 8.1MB/s eta 0:00:01\r\u001b[K     |██████████████████████▎         | 1.1MB 8.1MB/s eta 0:00:01\r\u001b[K     |██████████████████████▍         | 1.2MB 8.1MB/s eta 0:00:01\r\u001b[K     |██████████████████████▋         | 1.2MB 8.1MB/s eta 0:00:01\r\u001b[K     |██████████████████████▉         | 1.2MB 8.1MB/s eta 0:00:01\r\u001b[K     |███████████████████████         | 1.2MB 8.1MB/s eta 0:00:01\r\u001b[K     |███████████████████████▏        | 1.2MB 8.1MB/s eta 0:00:01\r\u001b[K     |███████████████████████▍        | 1.2MB 8.1MB/s eta 0:00:01\r\u001b[K     |███████████████████████▋        | 1.2MB 8.1MB/s eta 0:00:01\r\u001b[K     |███████████████████████▉        | 1.2MB 8.1MB/s eta 0:00:01\r\u001b[K     |████████████████████████        | 1.2MB 8.1MB/s eta 0:00:01\r\u001b[K     |████████████████████████▏       | 1.2MB 8.1MB/s eta 0:00:01\r\u001b[K     |████████████████████████▍       | 1.3MB 8.1MB/s eta 0:00:01\r\u001b[K     |████████████████████████▋       | 1.3MB 8.1MB/s eta 0:00:01\r\u001b[K     |████████████████████████▉       | 1.3MB 8.1MB/s eta 0:00:01\r\u001b[K     |█████████████████████████       | 1.3MB 8.1MB/s eta 0:00:01\r\u001b[K     |█████████████████████████▏      | 1.3MB 8.1MB/s eta 0:00:01\r\u001b[K     |█████████████████████████▍      | 1.3MB 8.1MB/s eta 0:00:01\r\u001b[K     |█████████████████████████▋      | 1.3MB 8.1MB/s eta 0:00:01\r\u001b[K     |█████████████████████████▉      | 1.3MB 8.1MB/s eta 0:00:01\r\u001b[K     |██████████████████████████      | 1.3MB 8.1MB/s eta 0:00:01\r\u001b[K     |██████████████████████████▏     | 1.4MB 8.1MB/s eta 0:00:01\r\u001b[K     |██████████████████████████▍     | 1.4MB 8.1MB/s eta 0:00:01\r\u001b[K     |██████████████████████████▋     | 1.4MB 8.1MB/s eta 0:00:01\r\u001b[K     |██████████████████████████▉     | 1.4MB 8.1MB/s eta 0:00:01\r\u001b[K     |███████████████████████████     | 1.4MB 8.1MB/s eta 0:00:01\r\u001b[K     |███████████████████████████▏    | 1.4MB 8.1MB/s eta 0:00:01\r\u001b[K     |███████████████████████████▍    | 1.4MB 8.1MB/s eta 0:00:01\r\u001b[K     |███████████████████████████▋    | 1.4MB 8.1MB/s eta 0:00:01\r\u001b[K     |███████████████████████████▉    | 1.4MB 8.1MB/s eta 0:00:01\r\u001b[K     |████████████████████████████    | 1.4MB 8.1MB/s eta 0:00:01\r\u001b[K     |████████████████████████████▏   | 1.5MB 8.1MB/s eta 0:00:01\r\u001b[K     |████████████████████████████▍   | 1.5MB 8.1MB/s eta 0:00:01\r\u001b[K     |████████████████████████████▋   | 1.5MB 8.1MB/s eta 0:00:01\r\u001b[K     |████████████████████████████▊   | 1.5MB 8.1MB/s eta 0:00:01\r\u001b[K     |█████████████████████████████   | 1.5MB 8.1MB/s eta 0:00:01\r\u001b[K     |█████████████████████████████▏  | 1.5MB 8.1MB/s eta 0:00:01\r\u001b[K     |█████████████████████████████▍  | 1.5MB 8.1MB/s eta 0:00:01\r\u001b[K     |█████████████████████████████▋  | 1.5MB 8.1MB/s eta 0:00:01\r\u001b[K     |█████████████████████████████▊  | 1.5MB 8.1MB/s eta 0:00:01\r\u001b[K     |██████████████████████████████  | 1.5MB 8.1MB/s eta 0:00:01\r\u001b[K     |██████████████████████████████▏ | 1.6MB 8.1MB/s eta 0:00:01\r\u001b[K     |██████████████████████████████▍ | 1.6MB 8.1MB/s eta 0:00:01\r\u001b[K     |██████████████████████████████▋ | 1.6MB 8.1MB/s eta 0:00:01\r\u001b[K     |██████████████████████████████▊ | 1.6MB 8.1MB/s eta 0:00:01\r\u001b[K     |███████████████████████████████ | 1.6MB 8.1MB/s eta 0:00:01\r\u001b[K     |███████████████████████████████▏| 1.6MB 8.1MB/s eta 0:00:01\r\u001b[K     |███████████████████████████████▍| 1.6MB 8.1MB/s eta 0:00:01\r\u001b[K     |███████████████████████████████▌| 1.6MB 8.1MB/s eta 0:00:01\r\u001b[K     |███████████████████████████████▊| 1.6MB 8.1MB/s eta 0:00:01\r\u001b[K     |████████████████████████████████| 1.6MB 8.1MB/s eta 0:00:01\r\u001b[K     |████████████████████████████████| 1.7MB 8.1MB/s \n",
            "\u001b[?25hRequirement already satisfied: wheel>=0.23.0 in /usr/local/lib/python3.7/dist-packages (from pyldavis) (0.36.2)\n",
            "Requirement already satisfied: numpy>=1.9.2 in /usr/local/lib/python3.7/dist-packages (from pyldavis) (1.19.5)\n",
            "Requirement already satisfied: scipy>=0.18.0 in /usr/local/lib/python3.7/dist-packages (from pyldavis) (1.4.1)\n",
            "Requirement already satisfied: joblib>=0.8.4 in /usr/local/lib/python3.7/dist-packages (from pyldavis) (1.0.1)\n",
            "Requirement already satisfied: jinja2>=2.7.2 in /usr/local/lib/python3.7/dist-packages (from pyldavis) (2.11.3)\n",
            "Requirement already satisfied: numexpr in /usr/local/lib/python3.7/dist-packages (from pyldavis) (2.7.3)\n",
            "Requirement already satisfied: future in /usr/local/lib/python3.7/dist-packages (from pyldavis) (0.16.0)\n",
            "Collecting funcy\n",
            "  Downloading https://files.pythonhosted.org/packages/66/89/479de0afbbfb98d1c4b887936808764627300208bb771fcd823403645a36/funcy-1.15-py2.py3-none-any.whl\n",
            "Requirement already satisfied: pandas>=0.17.0 in /usr/local/lib/python3.7/dist-packages (from pyldavis) (1.1.5)\n",
            "Requirement already satisfied: MarkupSafe>=0.23 in /usr/local/lib/python3.7/dist-packages (from jinja2>=2.7.2->pyldavis) (1.1.1)\n",
            "Requirement already satisfied: python-dateutil>=2.7.3 in /usr/local/lib/python3.7/dist-packages (from pandas>=0.17.0->pyldavis) (2.8.1)\n",
            "Requirement already satisfied: pytz>=2017.2 in /usr/local/lib/python3.7/dist-packages (from pandas>=0.17.0->pyldavis) (2018.9)\n",
            "Requirement already satisfied: six>=1.5 in /usr/local/lib/python3.7/dist-packages (from python-dateutil>=2.7.3->pandas>=0.17.0->pyldavis) (1.15.0)\n",
            "Building wheels for collected packages: pyldavis\n",
            "  Building wheel for pyldavis (setup.py) ... \u001b[?25l\u001b[?25hdone\n",
            "  Created wheel for pyldavis: filename=pyLDAvis-3.2.2-py2.py3-none-any.whl size=135593 sha256=eec7013868d1371464f5bcc0b170facfe18f01ceefb1c4ec03fc587e8ec55d05\n",
            "  Stored in directory: /root/.cache/pip/wheels/74/df/b6/97234c8446a43be05c9a8687ee0db1f1b5ade5f27729187eae\n",
            "Successfully built pyldavis\n",
            "Installing collected packages: funcy, pyldavis\n",
            "Successfully installed funcy-1.15 pyldavis-3.2.2\n"
          ],
          "name": "stdout"
        }
      ]
    },
    {
      "cell_type": "code",
      "metadata": {
        "colab": {
          "base_uri": "https://localhost:8080/"
        },
        "id": "1DsHYEfcO9Ie",
        "outputId": "1def1a89-0d37-422b-eada-fbd7498cc540"
      },
      "source": [
        "import pyLDAvis.sklearn\n"
      ],
      "execution_count": null,
      "outputs": [
        {
          "output_type": "stream",
          "text": [
            "/usr/local/lib/python3.7/dist-packages/past/types/oldstr.py:5: DeprecationWarning: Using or importing the ABCs from 'collections' instead of from 'collections.abc' is deprecated since Python 3.3,and in 3.9 it will stop working\n",
            "  from collections import Iterable\n",
            "/usr/local/lib/python3.7/dist-packages/past/builtins/misc.py:4: DeprecationWarning: Using or importing the ABCs from 'collections' instead of from 'collections.abc' is deprecated since Python 3.3,and in 3.9 it will stop working\n",
            "  from collections import Mapping\n"
          ],
          "name": "stderr"
        }
      ]
    },
    {
      "cell_type": "code",
      "metadata": {
        "colab": {
          "base_uri": "https://localhost:8080/",
          "height": 861
        },
        "id": "YPxRVot0O1sT",
        "outputId": "077a67d7-e0f4-4180-cca4-fa506b380505"
      },
      "source": [
        "pyLDAvis.enable_notebook()\n",
        "dash = pyLDAvis.sklearn.prepare(lda, data_vectorized, vectorizer, mds='tsne')\n",
        "dash"
      ],
      "execution_count": null,
      "outputs": [
        {
          "output_type": "execute_result",
          "data": {
            "text/html": [
              "\n",
              "<link rel=\"stylesheet\" type=\"text/css\" href=\"https://cdn.jsdelivr.net/gh/bmabey/pyLDAvis@3.2.2/pyLDAvis/js/ldavis.v1.0.0.css\">\n",
              "\n",
              "\n",
              "<div id=\"ldavis_el58140428009664592571137035\"></div>\n",
              "<script type=\"text/javascript\">\n",
              "\n",
              "var ldavis_el58140428009664592571137035_data = {\"mdsDat\": {\"x\": [32.42095184326172, 0.648955225944519, 71.01968383789062, 3.7859814167022705, -42.666500091552734, -3.6216893196105957, -3.632401704788208, -36.58440017700195, 44.391380310058594, 40.235809326171875], \"y\": [8.115229606628418, 71.70709991455078, 9.971006393432617, 33.18513488769531, -9.22206974029541, -43.52651596069336, -4.171707630157471, 35.804412841796875, 50.61538314819336, -31.591665267944336], \"topics\": [1, 2, 3, 4, 5, 6, 7, 8, 9, 10], \"cluster\": [1, 1, 1, 1, 1, 1, 1, 1, 1, 1], \"Freq\": [27.77130362825885, 25.73490554783811, 10.505565517206032, 8.419740254629936, 7.773989325753437, 6.718565076356812, 5.357171372095664, 3.102140398628545, 2.8160788730517456, 1.8005400061808614]}, \"tinfo\": {\"Term\": [\"point\", \"drill\", \"cobalt\", \"jobber\", \"steel\", \"split\", \"finish\", \"inch\", \"gold\", \"grade\", \"blade\", \"size\", \"screw\", \"drive\", \"socket\", \"button\", \"head\", \"black\", \"class\", \"flat\", \"zinc\", \"oxide\", \"hex\", \"diam\", \"cap\", \"white\", \"washer\", \"aluminum\", \"nylon\", \"type\", \"stainless\", \"phillips\", \"head\", \"plain\", \"pan\", \"drive\", \"socket\", \"machine\", \"screws\", \"hex\", \"button\", \"cap\", \"unbrako\", \"screw\", \"sheet\", \"fully\", \"alloy\", \"metal\", \"slotted\", \"marafast\", \"abhs\", \"brand\", \"threaded\", \"pack\", \"nut\", \"steel\", \"grade\", \"din\", \"coarse\", \"metric\", \"type\", \"collection\", \"black\", \"value\", \"zinc\", \"finish\", \"oxide\", \"length\", \"cobalt\", \"drill\", \"jobber\", \"split\", \"gold\", \"point\", \"ltr\", \"straw\", \"duty\", \"heavy\", \"finish\", \"oxide\", \"sanding\", \"abhs\", \"marafast\", \"ribbon\", \"pack\", \"slotted\", \"elastic\", \"disposable\", \"loop\", \"sheet\", \"snap\", \"cowhide\", \"rock\", \"cartridge\", \"sae\", \"brown\", \"partially\", \"american\", \"yellow\", \"single\", \"metal\", \"ink\", \"red\", \"frame\", \"marker\", \"paint\", \"phillips\", \"pan\", \"mil\", \"color\", \"collection\", \"inch\", \"head\", \"grade\", \"screw\", \"type\", \"washer\", \"astm\", \"holokrome\", \"fender\", \"flat\", \"low\", \"carbon\", \"zinc\", \"sae\", \"zinc-plated\", \"usa\", \"black\", \"steel\", \"finish\", \"value\", \"collection\", \"oxide\", \"yellow\", \"file\", \"standard\", \"material\", \"alloy\", \"screw\", \"cap\", \"min\", \"hex\", \"snap\", \"socket\", \"type\", \"drive\", \"split\", \"jobber\", \"grit\", \"disc\", \"max\", \"rpm\", \"quick\", \"change\", \"attaching\", \"aluminum\", \"backing\", \"weighted\", \"medium\", \"brown\", \"rock\", \"fine\", \"bit\", \"sanding\", \"cloth\", \"carbide\", \"roll\", \"plastic\", \"diam\", \"blue\", \"oxide\", \"type\", \"grade\", \"coated\", \"threaded\", \"coarse\", \"wide\", \"coat\", \"open\", \"black\", \"cut\", \"unlined\", \"hand\", \"gloves\", \"cuff\", \"high\", \"use\", \"pair\", \"american\", \"speed\", \"bright\", \"right\", \"cowhide\", \"thread\", \"material\", \"shank\", \"series\", \"gray\", \"paint\", \"ansi\", \"file\", \"single\", \"straight\", \"loop\", \"diam\", \"metric\", \"length\", \"size\", \"oal\", \"standard\", \"resistant\", \"type\", \"coarse\", \"steel\", \"finish\", \"class\", \"nylon\", \"long\", \"inch\", \"insert\", \"lock\", \"cable\", \"tie\", \"cartridge\", \"wide\", \"overall\", \"handle\", \"ink\", \"partially\", \"length\", \"mil\", \"volt\", \"paint\", \"nut\", \"straight\", \"blk\", \"standard\", \"yellow\", \"sanding\", \"loop\", \"collection\", \"value\", \"pack\", \"heavy\", \"plastic\", \"resistant\", \"black\", \"grade\", \"duty\", \"blue\", \"usa\", \"flat\", \"head\", \"gold\", \"white\", \"shell\", \"palm\", \"nitrile\", \"tape\", \"dupont\", \"tyvek\", \"disposable\", \"elastic\", \"coat\", \"color\", \"blk\", \"coated\", \"snap\", \"ribbon\", \"mil\", \"general\", \"purpose\", \"open\", \"size\", \"din\", \"single\", \"roll\", \"blue\", \"series\", \"loop\", \"vinyl\", \"clear\", \"type\", \"gray\", \"low\", \"inch\", \"wire\", \"marker\", \"safety\", \"scratch\", \"glasses\", \"clear\", \"frame\", \"vinyl\", \"protection\", \"resistant\", \"ink\", \"cloth\", \"ribbon\", \"ansi\", \"blue\", \"color\", \"black\", \"gray\", \"fine\", \"size\", \"sanding\", \"white\", \"elastic\", \"abhs\", \"marafast\", \"slotted\", \"snap\", \"disposable\", \"cowhide\", \"loop\", \"plastic\", \"sae\", \"tyvek\", \"holokrome\", \"tape\", \"astm\", \"usa\", \"alloy\", \"oxide\", \"cap\", \"screw\", \"socket\", \"steel\", \"hex\", \"drive\", \"blade\", \"knife\", \"reciprocating\", \"saw\", \"qty\", \"min\", \"oal\", \"handle\", \"snap\", \"file\", \"shank\", \"plastic\", \"straight\", \"carbon\", \"collection\", \"value\", \"standard\", \"metal\", \"aluminum\", \"steel\", \"abhs\", \"marafast\", \"slotted\", \"loop\", \"cowhide\", \"disposable\", \"elastic\", \"sae\", \"sanding\", \"rock\", \"weighted\", \"fender\", \"bright\", \"low\", \"frame\", \"marker\", \"vinyl\", \"backing\", \"cloth\", \"wire\", \"insert\", \"length\", \"zinc\", \"drill\", \"washer\", \"class\", \"red\", \"class\", \"volt\", \"open\", \"purpose\", \"general\", \"standard\", \"sae\", \"protection\", \"ansi\", \"button\", \"elastic\", \"size\", \"tyvek\", \"abhs\", \"marafast\", \"slotted\", \"loop\", \"cowhide\", \"snap\", \"american\", \"disposable\", \"sanding\", \"rock\", \"brown\", \"cartridge\", \"partially\", \"ribbon\", \"pack\", \"pair\", \"use\", \"carbon\", \"low\", \"coat\", \"zinc\", \"din\", \"flat\", \"file\", \"nut\", \"holokrome\", \"black\", \"steel\", \"finish\", \"astm\", \"usa\", \"washer\", \"cap\", \"hex\", \"drive\"], \"Freq\": [144.0, 128.0, 127.0, 127.0, 163.0, 127.0, 211.0, 51.0, 111.0, 82.0, 23.0, 41.0, 91.0, 78.0, 80.0, 37.0, 73.0, 47.0, 17.0, 35.0, 41.0, 69.0, 74.0, 33.0, 70.0, 19.0, 26.0, 24.0, 20.0, 49.0, 49.26610286279379, 28.184151306681198, 70.45205389442604, 25.597443985576653, 23.77877726258742, 75.20259562666075, 76.09633206975738, 20.2464944684676, 19.029112988664554, 70.16781932014644, 34.14085754930283, 64.0183258454176, 9.985904967250217, 77.29640285157684, 14.78756932986276, 5.630642443030386, 44.73130233164531, 14.507111782668067, 4.384680563750178, 4.222188176271192, 4.221875200843734, 9.986289298700415, 8.276551854011512, 4.220287941693728, 16.393540632347772, 101.79658481530039, 49.28253488957869, 9.851851316697886, 8.092086162750231, 5.631968016221879, 14.60387840025927, 7.044777596576491, 11.614345355721749, 7.040975354051458, 10.090185290286946, 18.11235372553805, 10.876775937788478, 8.27382275718051, 125.66720309230844, 127.02587548004108, 126.24800026095352, 125.89858041762845, 108.29226040883391, 139.97331814962493, 22.928694814352806, 18.123205917432006, 18.182285980667814, 18.17463276347711, 125.45478475036008, 17.98505276925843, 0.13240868717933454, 0.11244042048857565, 0.1099394192808316, 0.11236201276889109, 0.11099321448901901, 0.09724989942719389, 0.10102948838799027, 0.09952716473601694, 0.09999844449206523, 0.3007648158922193, 0.09866294660786964, 0.09835645301246827, 0.09917328571102856, 0.09891594293045577, 0.0976537500910848, 0.09969118916363168, 0.09929374034126373, 0.09954655718551894, 0.11401981742219598, 0.11233547073648907, 0.16818301414165893, 0.11135212729360554, 0.11087513561626922, 0.1096246769025924, 0.10888423027022927, 0.11155644359969989, 0.1455443155023104, 0.13259206692555492, 0.10920359942937997, 0.11228726862400797, 0.11396859091210924, 0.12010582081130343, 0.11430276297942711, 0.1133637713814793, 0.11230173908443453, 0.11152323240775489, 24.927635140797616, 20.123344329556097, 13.89293427339452, 10.766696372993833, 32.294255243877146, 17.630957491863704, 17.73060195239916, 30.086303435550942, 4.156856305792525, 4.591856170898517, 15.691601335741929, 16.097285257450118, 48.729970500563674, 59.283753567903574, 4.25070512453632, 4.248364854424177, 17.15158241369526, 1.5213104345030037, 1.7043519730372731, 3.0078448313707504, 1.1944878485248327, 7.52495631440229, 12.603084085311115, 5.494776545081207, 0.4963200981654024, 3.2161211577212, 0.20274084437225204, 2.7075543667174533, 1.6804469045275923, 2.5155244836630146, 0.9720831957468445, 0.5867931898113, 19.38265781192493, 18.17799451952661, 18.83284370459763, 16.610331838840473, 14.542150947691487, 14.544062862791378, 12.844382845567559, 22.354574779721386, 7.5893890883690664, 5.795736456811339, 5.404853454714647, 5.032890090257734, 4.8849004990295715, 15.236290679233246, 4.884246971349859, 3.767233640118123, 8.900612720059256, 5.723870363076653, 6.864392130360681, 3.540967519274962, 16.881603953710478, 3.8456901004539388, 22.384610694828304, 14.830924449950535, 22.845650130336075, 3.508020947113406, 1.8196259536994055, 2.113444673008614, 2.36166409109218, 0.31294524591671563, 0.39004684730974476, 1.0487249940156753, 19.042704477051515, 7.455374862835505, 9.877944183366766, 10.387385452280736, 7.121990291046013, 6.343320649637656, 5.601869691383867, 5.5940990451747155, 5.195319593194537, 5.52343738272828, 6.241766648063527, 5.506334906703205, 4.732361620286608, 11.112744713361426, 5.504576080144681, 8.231598256362473, 7.989525947425057, 4.252636245342685, 5.574260176522988, 6.840527162771604, 5.91171635737917, 4.199909224242894, 5.895850239429802, 2.882521587606628, 15.504321504505889, 4.624010227431883, 11.528412483019304, 15.125944158879445, 3.124105536279837, 5.939852368737203, 4.321768057332566, 12.686222409422633, 4.506998275180088, 5.7980806362888675, 5.607450363399929, 4.539068680067013, 19.315558786341185, 17.006788229194175, 46.96451253825779, 11.00198747705316, 10.952603838340227, 7.228225059371978, 6.313687033596275, 4.9615654403238425, 13.480356165223192, 8.024605350799293, 7.1545789419773484, 4.144462398822411, 2.4190092658196707, 10.559621023437462, 3.238335297914565, 2.4212432744611547, 2.8165786753078894, 6.814269342151352, 2.9465781184933006, 2.0866369285292254, 3.8446654257849637, 1.441827065267082, 1.0310343349406486, 0.9728299533574178, 2.7362701130985725, 2.7297693274575203, 0.9723913107765422, 3.603356494791391, 0.9728124982150245, 1.943600615545778, 6.553890593254839, 8.891928255691282, 2.685183858934694, 1.4043507028499995, 1.905437688199758, 1.951971516836175, 1.9525353686107871, 1.9512483348493919, 18.06026775621609, 9.450302814169628, 7.544807947946899, 6.709851451183971, 6.688638177680932, 6.38890773115667, 6.264354457560082, 4.66974489075296, 4.623939692416732, 5.3320708531156376, 9.065945192159306, 5.657045752662121, 8.718804164680478, 3.5955049671821815, 3.595375836823622, 5.395784639561417, 9.890048853215028, 8.991052204754915, 4.0929974763534505, 18.42924117921072, 7.198992821947856, 2.579562779418445, 3.866364889509758, 2.788461801069829, 2.9428111924905305, 1.0731706449317937, 1.2575224098139004, 1.1497620217150735, 5.298366094843021, 0.6325578650816702, 1.8465873814287228, 3.1909707865851344, 7.599442584475985, 7.270854254769754, 6.590241595957066, 5.517603055723842, 5.519855195545008, 7.599937487369053, 6.4553297359990545, 6.1023859136271295, 5.5188099617195245, 6.538208669009343, 3.104930898496946, 4.303941483053723, 1.4949658619837067, 2.800853384371972, 2.2020333588724674, 2.523452806363976, 8.441943399982794, 1.158519189120249, 3.1079858552877826, 5.511844097216548, 0.1686025422583655, 0.5585206509065932, 0.1489670374723379, 0.1326563481227263, 0.1326147731286988, 0.13401903677731317, 0.13383632767062806, 0.1315265025541567, 0.13325326362518325, 0.1323042529097428, 0.14878671035428112, 0.134533673773366, 0.14705834153712544, 0.17733120901678534, 0.14519106818342783, 0.18899251463879146, 0.1905620388255388, 0.20849407048342505, 0.2065792701007699, 0.2052017140665998, 0.20939654905483726, 0.20593663027001494, 0.21158765319554532, 0.19076159511044485, 0.19020496479787474, 21.989154355253902, 6.587647369176511, 6.640439170948268, 6.5580131875103955, 5.511544588869881, 7.1745488876877275, 5.361432027347547, 2.819970545099865, 1.1511052028205109, 2.0099922175726155, 2.1377777746105426, 1.1494407849409427, 1.9666697278642467, 3.5454053579212568, 2.203467005057053, 2.1755836681996823, 2.1600462152088413, 1.2185688075682826, 1.2435381909484873, 5.903746775939139, 0.13260653882860982, 0.1307836561129823, 0.13124461177804772, 0.1323190064013365, 0.13239591515003155, 0.13019988913649871, 0.12918898949076, 0.13368270762283285, 0.129820853884548, 0.13216086371307878, 0.14277398941730196, 0.19553316628863554, 0.14600458972899652, 0.20826913023194132, 0.14734757783187627, 0.14662384592610903, 0.14598986449432277, 0.14680077231033567, 0.16233929756898874, 0.14414287513706805, 0.15174544421070923, 0.15634108545685962, 0.1572878915130454, 0.1557761839990045, 0.14729256569000612, 0.14708361688478902, 6.961440939075462, 12.060641635997955, 4.230903169898884, 3.347331631966722, 5.0821280950880166, 5.078045376419559, 3.1144101600718472, 0.8926158168287249, 1.2799521733010715, 1.2629590812377978, 2.3793443084042645, 0.18466234594956157, 1.269230880304245, 0.20709890020870136, 0.14223037726653198, 0.14125542181200182, 0.14569050363679453, 0.15221333415735155, 0.1523239002232239, 0.14920971664008736, 0.16092161071888755, 0.1411429955333667, 0.14091751018681217, 0.1426607817487213, 0.14457497527979574, 0.1418005427536685, 0.1429360964161644, 0.14204598815214894, 0.141656022414588, 0.15427163105842956, 0.1516574556824594, 0.3602127378570224, 0.2743434369609456, 0.14796232159687764, 0.30229208204688324, 0.1956048567946924, 0.22166906705345518, 0.16133011643994175, 0.19063265438159113, 0.16049994229717754, 0.17983800695047156, 0.1856699461572209, 0.182582857811718, 0.16007958744109008, 0.16079631420639284, 0.16022633519518037, 0.16380871687087248, 0.16337208651916668, 0.16120289839302143], \"Total\": [144.0, 128.0, 127.0, 127.0, 163.0, 127.0, 211.0, 51.0, 111.0, 82.0, 23.0, 41.0, 91.0, 78.0, 80.0, 37.0, 73.0, 47.0, 17.0, 35.0, 41.0, 69.0, 74.0, 33.0, 70.0, 19.0, 26.0, 24.0, 20.0, 49.0, 50.42157117594043, 29.29164584327792, 73.48861812052256, 26.762068125975475, 24.87584546610596, 78.8560443554387, 80.02550646213216, 21.321678433112552, 20.15862339933747, 74.47759603568952, 37.5531157861021, 70.65032815764692, 11.07074498137422, 91.01854025158484, 17.458999043938178, 6.698602804367044, 53.38082317657572, 17.59010368894023, 5.466331884011588, 5.294947237672715, 5.296543137389007, 12.922651088599492, 11.059608531694344, 6.152649838458934, 24.227009346560735, 163.38980328006866, 82.06991197697553, 18.108337236407817, 15.828244783196517, 11.328423287522885, 49.74073234200538, 16.997481718737973, 47.487942222885195, 16.986424755615264, 41.79070073126241, 211.36180392938562, 69.26645059563043, 31.24107522518708, 127.01677050815157, 128.58233076225665, 127.80945658600545, 127.84445011084355, 111.50871409840997, 144.1499709122788, 24.026003905279566, 19.311158098270273, 21.883785085780286, 22.809077768954058, 211.36180392938562, 69.26645059563043, 5.833353592942199, 5.296543137389007, 5.294947237672715, 6.146829745828979, 6.152649838458934, 5.466331884011588, 5.734056238610703, 5.72061532858744, 5.774348933096393, 17.458999043938178, 5.777787937715214, 5.800985158224465, 5.951750533795577, 6.0204947429508096, 5.986713849091486, 6.1159679852139, 6.125035460368136, 6.272773518280951, 7.590687686459369, 7.740723890423694, 17.59010368894023, 8.187063957294681, 8.253038521382837, 8.393956988484721, 8.415593939674817, 9.383485727617431, 29.29164584327792, 24.87584546610596, 10.068276783657232, 12.700646244047196, 16.997481718737973, 51.16619860980332, 73.48861812052256, 82.06991197697553, 91.01854025158484, 49.74073234200538, 26.083446896261805, 21.718803702575965, 15.154272722697728, 11.89538232573488, 35.693549992391176, 20.713854514965238, 23.040163180674615, 41.79070073126241, 5.986713849091486, 6.743371411559565, 26.19296251125474, 47.487942222885195, 163.38980328006866, 211.36180392938562, 16.986424755615264, 16.997481718737973, 69.26645059563043, 7.590687686459369, 10.467939287937767, 18.71724792573382, 7.637434657956422, 53.38082317657572, 91.01854025158484, 70.65032815764692, 8.63355085720178, 74.47759603568952, 5.777787937715214, 80.02550646213216, 49.74073234200538, 78.8560443554387, 127.84445011084355, 127.80945658600545, 20.556791624718223, 19.33138273413895, 20.095924423738655, 17.745213396365873, 15.657107048271659, 15.663800713616638, 13.938097793700942, 24.59149715749394, 8.714998437556979, 6.8702498015685665, 6.47108044870594, 6.1159679852139, 5.951750533795577, 19.448468983373534, 6.826869376204267, 5.833353592942199, 14.252169884814068, 9.594678580966878, 11.803371136014045, 6.495229851784635, 33.371732513749514, 10.950373116100371, 69.26645059563043, 49.74073234200538, 82.06991197697553, 13.435481572469497, 11.059608531694344, 15.828244783196517, 17.789016297250683, 6.677433306247064, 8.741017649672319, 47.487942222885195, 20.111458058853334, 8.517928059459953, 11.320564160411278, 11.955840163863904, 8.463936642432044, 7.54829786311207, 6.723792022057553, 6.73118176086918, 6.272773518280951, 6.67740582231434, 7.549252005582696, 6.681970970551868, 5.800985158224465, 14.957339982844042, 7.637434657956422, 11.6565907197978, 12.277842162664648, 6.870108177445311, 9.383485727617431, 11.707291722936992, 10.467939287937767, 7.740723890423694, 11.63176563529063, 5.774348933096393, 33.371732513749514, 11.328423287522885, 31.24107522518708, 41.1611630496875, 9.47047125723823, 18.71724792573382, 13.745979694112629, 49.74073234200538, 15.828244783196517, 163.38980328006866, 211.36180392938562, 17.762498582581323, 20.417723380111113, 18.37621781288979, 51.16619860980332, 12.301208821079772, 12.248023985336456, 8.307061555910607, 7.379773648493374, 6.0204947429508096, 17.789016297250683, 10.869669744910606, 10.905900596998087, 8.187063957294681, 6.125035460368136, 31.24107522518708, 10.068276783657232, 7.594659076989658, 9.383485727617431, 24.227009346560735, 11.63176563529063, 8.69438295660654, 18.71724792573382, 7.590687686459369, 5.833353592942199, 5.774348933096393, 16.997481718737973, 16.986424755615264, 6.152649838458934, 22.809077768954058, 6.495229851784635, 13.745979694112629, 47.487942222885195, 82.06991197697553, 21.883785085780286, 10.950373116100371, 26.19296251125474, 35.693549992391176, 73.48861812052256, 111.50871409840997, 19.69587903995844, 10.531808617504112, 8.620206212305122, 7.762790005195466, 7.765130277270647, 7.514543587292516, 7.527326136249334, 5.72061532858744, 5.734056238610703, 6.677433306247064, 12.700646244047196, 8.69438295660654, 13.435481572469497, 5.777787937715214, 6.146829745828979, 10.068276783657232, 18.68735825100701, 17.778190637331377, 8.741017649672319, 41.1611630496875, 18.108337236407817, 7.740723890423694, 11.803371136014045, 10.950373116100371, 12.277842162664648, 5.774348933096393, 8.381898026915788, 9.671099059800135, 49.74073234200538, 6.870108177445311, 20.713854514965238, 51.16619860980332, 8.648795378212789, 8.415593939674817, 7.676803816079388, 6.564105386080729, 6.57342585657831, 9.671099059800135, 8.393956988484721, 8.381898026915788, 10.471803987840481, 13.745979694112629, 8.187063957294681, 14.252169884814068, 6.146829745828979, 11.707291722936992, 10.950373116100371, 12.700646244047196, 47.487942222885195, 6.870108177445311, 19.448468983373534, 41.1611630496875, 5.833353592942199, 19.69587903995844, 5.734056238610703, 5.296543137389007, 5.294947237672715, 5.466331884011588, 5.777787937715214, 5.72061532858744, 5.800985158224465, 5.774348933096393, 6.495229851784635, 5.986713849091486, 7.527326136249334, 15.154272722697728, 7.765130277270647, 21.718803702575965, 26.19296251125474, 53.38082317657572, 69.26645059563043, 70.65032815764692, 91.01854025158484, 80.02550646213216, 163.38980328006866, 74.47759603568952, 78.8560443554387, 23.047202018962828, 7.621691579163444, 7.688544288350017, 7.62024014707623, 6.600260094816971, 8.63355085720178, 9.47047125723823, 10.905900596998087, 5.777787937715214, 10.467939287937767, 11.6565907197978, 6.495229851784635, 11.63176563529063, 23.040163180674615, 16.997481718737973, 16.986424755615264, 18.71724792573382, 17.59010368894023, 24.59149715749394, 163.38980328006866, 5.296543137389007, 5.294947237672715, 5.466331884011588, 5.774348933096393, 5.800985158224465, 5.72061532858744, 5.734056238610703, 5.986713849091486, 5.833353592942199, 5.951750533795577, 6.8702498015685665, 11.89538232573488, 7.549252005582696, 20.713854514965238, 8.393956988484721, 8.415593939674817, 8.381898026915788, 8.714998437556979, 14.252169884814068, 8.648795378212789, 12.301208821079772, 31.24107522518708, 41.79070073126241, 128.58233076225665, 26.083446896261805, 17.762498582581323, 8.253038521382837, 17.762498582581323, 7.594659076989658, 8.741017649672319, 17.778190637331377, 18.68735825100701, 18.71724792573382, 5.986713849091486, 10.471803987840481, 11.707291722936992, 37.5531157861021, 5.734056238610703, 41.1611630496875, 7.527326136249334, 5.296543137389007, 5.294947237672715, 5.466331884011588, 5.774348933096393, 5.800985158224465, 5.777787937715214, 6.272773518280951, 5.72061532858744, 5.833353592942199, 5.951750533795577, 6.1159679852139, 6.0204947429508096, 6.125035460368136, 6.146829745828979, 6.152649838458934, 6.73118176086918, 6.723792022057553, 23.040163180674615, 20.713854514965238, 6.677433306247064, 41.79070073126241, 18.108337236407817, 35.693549992391176, 10.467939287937767, 24.227009346560735, 15.154272722697728, 47.487942222885195, 163.38980328006866, 211.36180392938562, 21.718803702575965, 26.19296251125474, 26.083446896261805, 70.65032815764692, 74.47759603568952, 78.8560443554387], \"Category\": [\"Default\", \"Default\", \"Default\", \"Default\", \"Default\", \"Default\", \"Default\", \"Default\", \"Default\", \"Default\", \"Default\", \"Default\", \"Default\", \"Default\", \"Default\", \"Default\", \"Default\", \"Default\", \"Default\", \"Default\", \"Default\", \"Default\", \"Default\", \"Default\", \"Default\", \"Default\", \"Default\", \"Default\", \"Default\", \"Default\", \"Topic1\", \"Topic1\", \"Topic1\", \"Topic1\", \"Topic1\", \"Topic1\", \"Topic1\", \"Topic1\", \"Topic1\", \"Topic1\", \"Topic1\", \"Topic1\", \"Topic1\", \"Topic1\", \"Topic1\", \"Topic1\", \"Topic1\", \"Topic1\", \"Topic1\", \"Topic1\", \"Topic1\", \"Topic1\", \"Topic1\", \"Topic1\", \"Topic1\", \"Topic1\", \"Topic1\", \"Topic1\", \"Topic1\", \"Topic1\", \"Topic1\", \"Topic1\", \"Topic1\", \"Topic1\", \"Topic1\", \"Topic1\", \"Topic1\", \"Topic1\", \"Topic2\", \"Topic2\", \"Topic2\", \"Topic2\", \"Topic2\", \"Topic2\", \"Topic2\", \"Topic2\", \"Topic2\", \"Topic2\", \"Topic2\", \"Topic2\", \"Topic2\", \"Topic2\", \"Topic2\", \"Topic2\", \"Topic2\", \"Topic2\", \"Topic2\", \"Topic2\", \"Topic2\", \"Topic2\", \"Topic2\", \"Topic2\", \"Topic2\", \"Topic2\", \"Topic2\", \"Topic2\", \"Topic2\", \"Topic2\", \"Topic2\", \"Topic2\", \"Topic2\", \"Topic2\", \"Topic2\", \"Topic2\", \"Topic2\", \"Topic2\", \"Topic2\", \"Topic2\", \"Topic2\", \"Topic2\", \"Topic2\", \"Topic2\", \"Topic2\", \"Topic2\", \"Topic2\", \"Topic2\", \"Topic3\", \"Topic3\", \"Topic3\", \"Topic3\", \"Topic3\", \"Topic3\", \"Topic3\", \"Topic3\", \"Topic3\", \"Topic3\", \"Topic3\", \"Topic3\", \"Topic3\", \"Topic3\", \"Topic3\", \"Topic3\", \"Topic3\", \"Topic3\", \"Topic3\", \"Topic3\", \"Topic3\", \"Topic3\", \"Topic3\", \"Topic3\", \"Topic3\", \"Topic3\", \"Topic3\", \"Topic3\", \"Topic3\", \"Topic3\", \"Topic3\", \"Topic3\", \"Topic4\", \"Topic4\", \"Topic4\", \"Topic4\", \"Topic4\", \"Topic4\", \"Topic4\", \"Topic4\", \"Topic4\", \"Topic4\", \"Topic4\", \"Topic4\", \"Topic4\", \"Topic4\", \"Topic4\", \"Topic4\", \"Topic4\", \"Topic4\", \"Topic4\", \"Topic4\", \"Topic4\", \"Topic4\", \"Topic4\", \"Topic4\", \"Topic4\", \"Topic4\", \"Topic4\", \"Topic4\", \"Topic4\", \"Topic4\", \"Topic4\", \"Topic4\", \"Topic5\", \"Topic5\", \"Topic5\", \"Topic5\", \"Topic5\", \"Topic5\", \"Topic5\", \"Topic5\", \"Topic5\", \"Topic5\", \"Topic5\", \"Topic5\", \"Topic5\", \"Topic5\", \"Topic5\", \"Topic5\", \"Topic5\", \"Topic5\", \"Topic5\", \"Topic5\", \"Topic5\", \"Topic5\", \"Topic5\", \"Topic5\", \"Topic5\", \"Topic5\", \"Topic5\", \"Topic5\", \"Topic5\", \"Topic5\", \"Topic5\", \"Topic5\", \"Topic5\", \"Topic5\", \"Topic5\", \"Topic5\", \"Topic6\", \"Topic6\", \"Topic6\", \"Topic6\", \"Topic6\", \"Topic6\", \"Topic6\", \"Topic6\", \"Topic6\", \"Topic6\", \"Topic6\", \"Topic6\", \"Topic6\", \"Topic6\", \"Topic6\", \"Topic6\", \"Topic6\", \"Topic6\", \"Topic6\", \"Topic6\", \"Topic6\", \"Topic6\", \"Topic6\", \"Topic6\", \"Topic6\", \"Topic6\", \"Topic6\", \"Topic6\", \"Topic6\", \"Topic6\", \"Topic6\", \"Topic6\", \"Topic6\", \"Topic6\", \"Topic6\", \"Topic6\", \"Topic6\", \"Topic6\", \"Topic7\", \"Topic7\", \"Topic7\", \"Topic7\", \"Topic7\", \"Topic7\", \"Topic7\", \"Topic7\", \"Topic7\", \"Topic7\", \"Topic7\", \"Topic7\", \"Topic7\", \"Topic7\", \"Topic7\", \"Topic7\", \"Topic7\", \"Topic7\", \"Topic7\", \"Topic7\", \"Topic7\", \"Topic7\", \"Topic7\", \"Topic7\", \"Topic7\", \"Topic7\", \"Topic7\", \"Topic7\", \"Topic7\", \"Topic7\", \"Topic7\", \"Topic7\", \"Topic8\", \"Topic8\", \"Topic8\", \"Topic8\", \"Topic8\", \"Topic8\", \"Topic8\", \"Topic8\", \"Topic8\", \"Topic8\", \"Topic8\", \"Topic8\", \"Topic8\", \"Topic8\", \"Topic8\", \"Topic8\", \"Topic8\", \"Topic8\", \"Topic8\", \"Topic8\", \"Topic8\", \"Topic8\", \"Topic8\", \"Topic8\", \"Topic8\", \"Topic8\", \"Topic8\", \"Topic8\", \"Topic8\", \"Topic8\", \"Topic8\", \"Topic8\", \"Topic8\", \"Topic8\", \"Topic8\", \"Topic8\", \"Topic8\", \"Topic8\", \"Topic8\", \"Topic8\", \"Topic8\", \"Topic8\", \"Topic8\", \"Topic8\", \"Topic8\", \"Topic9\", \"Topic9\", \"Topic9\", \"Topic9\", \"Topic9\", \"Topic9\", \"Topic9\", \"Topic9\", \"Topic9\", \"Topic9\", \"Topic9\", \"Topic9\", \"Topic9\", \"Topic9\", \"Topic9\", \"Topic9\", \"Topic9\", \"Topic9\", \"Topic9\", \"Topic9\", \"Topic9\", \"Topic9\", \"Topic9\", \"Topic9\", \"Topic9\", \"Topic9\", \"Topic9\", \"Topic9\", \"Topic9\", \"Topic9\", \"Topic9\", \"Topic9\", \"Topic9\", \"Topic9\", \"Topic9\", \"Topic9\", \"Topic9\", \"Topic9\", \"Topic9\", \"Topic9\", \"Topic9\", \"Topic9\", \"Topic9\", \"Topic9\", \"Topic9\", \"Topic9\", \"Topic10\", \"Topic10\", \"Topic10\", \"Topic10\", \"Topic10\", \"Topic10\", \"Topic10\", \"Topic10\", \"Topic10\", \"Topic10\", \"Topic10\", \"Topic10\", \"Topic10\", \"Topic10\", \"Topic10\", \"Topic10\", \"Topic10\", \"Topic10\", \"Topic10\", \"Topic10\", \"Topic10\", \"Topic10\", \"Topic10\", \"Topic10\", \"Topic10\", \"Topic10\", \"Topic10\", \"Topic10\", \"Topic10\", \"Topic10\", \"Topic10\", \"Topic10\", \"Topic10\", \"Topic10\", \"Topic10\", \"Topic10\", \"Topic10\", \"Topic10\", \"Topic10\", \"Topic10\", \"Topic10\", \"Topic10\", \"Topic10\", \"Topic10\", \"Topic10\", \"Topic10\", \"Topic10\", \"Topic10\", \"Topic10\"], \"logprob\": [30.0, 29.0, 28.0, 27.0, 26.0, 25.0, 24.0, 23.0, 22.0, 21.0, 20.0, 19.0, 18.0, 17.0, 16.0, 15.0, 14.0, 13.0, 12.0, 11.0, 10.0, 9.0, 8.0, 7.0, 6.0, 5.0, 4.0, 3.0, 2.0, 1.0, -3.0759, -3.6343, -2.7182, -3.7306, -3.8043, -2.6529, -2.6411, -3.9651, -4.0271, -2.7222, -3.4426, -2.8139, -4.6719, -2.6255, -4.2793, -5.2449, -3.1724, -4.2985, -5.495, -5.5327, -5.5328, -4.6719, -4.8597, -5.5332, -4.1762, -2.3501, -3.0755, -4.6854, -4.8822, -5.2446, -4.2918, -5.0208, -4.5209, -5.0214, -4.6615, -4.0765, -4.5865, -4.86, -2.0633, -2.0526, -2.0587, -2.0615, -2.2121, -1.9555, -3.7646, -3.9998, -3.9965, -3.9969, -2.065, -4.0074, -8.9188, -9.0823, -9.1048, -9.083, -9.0952, -9.2274, -9.1893, -9.2043, -9.1995, -8.0984, -9.213, -9.2161, -9.2078, -9.2104, -9.2233, -9.2026, -9.2066, -9.2041, -9.0683, -9.0832, -8.6796, -9.092, -9.0963, -9.1076, -9.1144, -9.0902, -8.8242, -8.9174, -9.1115, -9.0836, -9.0688, -9.0163, -9.0659, -9.0741, -9.0835, -9.0905, -2.785, -2.9991, -3.3696, -3.6245, -2.5261, -3.1313, -3.1257, -2.5969, -4.5762, -4.4767, -3.2479, -3.2224, -2.1147, -1.9187, -4.5539, -4.5545, -3.1589, -5.5814, -5.4678, -4.8998, -5.8233, -3.9828, -3.4671, -4.2972, -6.7015, -4.8328, -7.5968, -5.005, -5.4819, -5.0785, -6.0293, -6.5341, -2.8153, -2.8795, -2.8441, -2.9697, -3.1026, -3.1025, -3.2268, -2.6726, -3.7529, -4.0226, -4.0924, -4.1637, -4.1935, -3.056, -4.1937, -4.4533, -3.5936, -4.035, -3.8533, -4.5153, -2.9535, -4.4327, -2.6713, -3.083, -2.6509, -4.5246, -5.181, -5.0314, -4.9203, -6.9414, -6.7212, -5.7321, -2.7532, -3.6909, -3.4096, -3.3593, -3.7367, -3.8525, -3.9768, -3.9782, -4.0521, -3.9909, -3.8686, -3.994, -4.1455, -3.2918, -3.9943, -3.5919, -3.6218, -4.2523, -3.9817, -3.777, -3.9229, -4.2648, -3.9256, -4.6412, -2.9588, -4.1686, -3.2551, -2.9835, -4.5607, -3.9182, -4.2362, -3.1594, -4.1943, -3.9424, -3.9758, -4.1872, -2.5931, -2.7204, -1.7046, -3.1559, -3.1604, -3.576, -3.7113, -3.9523, -2.9527, -3.4715, -3.5862, -4.1322, -4.6706, -3.1969, -4.3789, -4.6697, -4.5185, -3.635, -4.4733, -4.8184, -4.2073, -5.1881, -5.5234, -5.5815, -4.5474, -4.5498, -5.582, -4.2721, -5.5815, -4.8894, -3.6739, -3.3688, -4.5662, -5.2144, -4.9093, -4.8851, -4.8848, -4.8855, -2.4338, -3.0815, -3.3067, -3.424, -3.4271, -3.473, -3.4927, -3.7864, -3.7963, -3.6538, -3.123, -3.5946, -3.1621, -4.0479, -4.0479, -3.6419, -3.036, -3.1313, -3.9183, -2.4136, -3.3536, -4.3799, -3.9752, -4.302, -4.2482, -5.2569, -5.0984, -5.188, -3.6601, -5.7855, -4.7142, -4.1672, -2.7531, -2.7973, -2.8956, -3.0732, -3.0728, -2.7531, -2.9163, -2.9725, -3.073, -2.9035, -3.6482, -3.3217, -4.3791, -3.7513, -3.9918, -3.8556, -2.648, -4.634, -3.6472, -3.0743, -6.5614, -5.3637, -6.6852, -6.8012, -6.8015, -6.791, -6.7923, -6.8097, -6.7967, -6.8038, -6.6864, -6.7871, -6.6981, -6.5109, -6.7109, -6.4472, -6.439, -6.349, -6.3583, -6.365, -6.3447, -6.3614, -6.3343, -6.4379, -6.4408, -1.5939, -2.7992, -2.7913, -2.8038, -2.9776, -2.7139, -3.0052, -3.6477, -4.5437, -3.9863, -3.9247, -4.5452, -4.0081, -3.4188, -3.8944, -3.9071, -3.9143, -4.4868, -4.4665, -2.9089, -6.7048, -6.7187, -6.7151, -6.707, -6.7064, -6.7231, -6.7309, -6.6967, -6.726, -6.7082, -6.6309, -6.3165, -6.6086, -6.2534, -6.5994, -6.6043, -6.6087, -6.6031, -6.5025, -6.6214, -6.57, -6.5402, -6.5341, -6.5438, -6.5998, -6.6012, -2.2968, -1.7472, -2.7948, -3.029, -2.6115, -2.6123, -3.1011, -4.3508, -3.9904, -4.0037, -3.3704, -5.9264, -3.9988, -5.8117, -6.1875, -6.1944, -6.1635, -6.1197, -6.1189, -6.1396, -6.064, -6.1952, -6.1968, -6.1845, -6.1711, -6.1905, -6.1825, -6.1888, -6.1915, -6.1062, -6.1233, -5.2582, -5.5306, -6.148, -5.4335, -5.8688, -5.7438, -6.0615, -5.8946, -6.0666, -5.9529, -5.921, -5.9377, -6.0693, -6.0648, -6.0684, -6.0462, -6.0489, -6.0623], \"loglift\": [30.0, 29.0, 28.0, 27.0, 26.0, 25.0, 24.0, 23.0, 22.0, 21.0, 20.0, 19.0, 18.0, 17.0, 16.0, 15.0, 14.0, 13.0, 12.0, 11.0, 10.0, 9.0, 8.0, 7.0, 6.0, 5.0, 4.0, 3.0, 2.0, 1.0, 1.258, 1.2426, 1.239, 1.2367, 1.2361, 1.2337, 1.2308, 1.2294, 1.2235, 1.2216, 1.1859, 1.1826, 1.178, 1.1178, 1.1151, 1.1075, 1.1044, 1.0885, 1.0607, 1.0548, 1.0544, 1.0234, 0.9913, 0.9042, 0.8906, 0.808, 0.7712, 0.6725, 0.6103, 0.5823, 0.0556, 0.4004, -0.1271, 0.4005, -0.1399, -1.1758, -0.5702, -0.0475, 1.3466, 1.3451, 1.345, 1.342, 1.3281, 1.3279, 1.3106, 1.2938, 1.172, 1.1302, 0.8357, 0.0089, -2.4281, -2.4951, -2.5173, -2.6446, -2.6578, -2.6718, -2.6814, -2.6941, -2.6987, -2.704, -2.7127, -2.7199, -2.7373, -2.7513, -2.7585, -2.7593, -2.7647, -2.786, -2.841, -2.8754, -3.2927, -2.9403, -2.9526, -2.9809, -2.9902, -3.0749, -3.9473, -3.8771, -3.1666, -3.371, -3.6476, -4.6971, -5.1087, -5.2274, -5.3403, -4.743, 2.2079, 2.177, 2.1664, 2.1536, 2.1532, 2.0921, 1.9913, 1.9247, 1.8885, 1.869, 1.7409, 1.1714, 1.0434, 0.982, 0.8679, 0.8667, 0.8574, 0.6459, 0.4381, 0.425, 0.3979, 0.294, 0.2761, -0.3007, -0.6029, -0.8891, -1.0966, -1.133, -1.1345, -1.1919, -2.6259, -3.1304, 2.4158, 2.4131, 2.4097, 2.4085, 2.4007, 2.4004, 2.3929, 2.3792, 2.3363, 2.3045, 2.2945, 2.2797, 2.2771, 2.2305, 2.1397, 2.0373, 2.0038, 1.958, 1.9326, 1.8679, 1.7931, 1.4282, 1.345, 1.2645, 1.1958, 1.1317, 0.6699, 0.4611, 0.4554, -0.5859, -0.6349, -1.3383, 2.4998, 2.4211, 2.4181, 2.4138, 2.3818, 2.3805, 2.3718, 2.3693, 2.3659, 2.3647, 2.3642, 2.3609, 2.3508, 2.2573, 2.2269, 2.2065, 2.1247, 2.0747, 2.0336, 2.017, 1.983, 1.943, 1.8749, 1.8596, 1.7878, 1.6583, 1.5575, 1.5533, 1.4454, 1.4066, 1.3973, 1.1881, 1.2982, -0.7842, -1.0751, 1.19, 2.6448, 2.6229, 2.6146, 2.5887, 2.5885, 2.5612, 2.5443, 2.5068, 2.4229, 2.3968, 2.2787, 2.0195, 1.7713, 1.6156, 1.566, 1.5571, 1.4969, 1.4318, 1.3272, 1.2732, 1.1175, 1.0393, 0.9673, 0.9193, 0.8738, 0.8721, 0.8554, 0.855, 0.8017, 0.7441, 0.7199, 0.4779, 0.6023, 0.6465, 0.0795, -0.2058, -0.9277, -1.3453, 2.84, 2.8184, 2.7935, 2.781, 2.7775, 2.7645, 2.7431, 2.7238, 2.7116, 2.7017, 2.5896, 2.497, 2.4943, 2.4524, 2.3904, 2.303, 2.2904, 2.245, 2.168, 2.1232, 2.0043, 1.8279, 1.8107, 1.5589, 1.4983, 1.2439, 1.0298, 0.7971, 0.6873, 0.5416, 0.5093, 0.152, 3.3437, 3.3269, 3.3205, 3.2994, 3.2984, 3.2321, 3.2105, 3.1557, 2.8326, 2.73, 2.5035, 2.2757, 2.0592, 2.0428, 1.8691, 1.8571, 1.7458, 1.693, 1.6393, 1.4625, -0.0707, -0.0898, -0.1774, -0.214, -0.214, -0.2353, -0.2921, -0.2995, -0.3005, -0.303, -0.3032, -0.3224, -0.4624, -0.9749, -0.5063, -1.2711, -1.4502, -2.0722, -2.342, -2.3684, -2.6015, -2.4895, -3.1762, -2.4942, -2.5542, 3.5228, 3.424, 3.4233, 3.4197, 3.3896, 3.3847, 3.0009, 2.2172, 1.9565, 1.9196, 1.8737, 1.838, 1.7924, 1.6982, 1.5268, 1.5147, 1.4105, 0.9002, 0.5854, 0.2493, -0.1176, -0.1311, -0.1595, -0.2061, -0.2102, -0.2129, -0.2231, -0.232, -0.2354, -0.2376, -0.3039, -0.5384, -0.3757, -1.0299, -0.4726, -0.4801, -0.4805, -0.5139, -0.9052, -0.5245, -0.8254, -1.7276, -2.0125, -3.1461, -1.6068, -1.224, 3.8469, 3.6299, 3.4321, 3.0572, 2.7648, 2.7142, 2.2237, 2.1139, 1.9152, 1.7903, 1.2582, 0.5814, 0.538, 0.424, 0.3997, 0.3931, 0.3922, 0.3812, 0.3773, 0.3607, 0.354, 0.315, 0.2939, 0.2861, 0.2722, 0.2686, 0.2593, 0.2495, 0.2458, 0.2413, 0.2253, -0.1412, -0.3071, 0.2076, -0.912, -0.5109, -1.0645, -0.1555, -0.8278, -0.5307, -1.5591, -2.7628, -3.037, -0.8932, -1.076, -1.0754, -2.0497, -2.1051, -2.1756]}, \"token.table\": {\"Topic\": [1, 1, 3, 4, 9, 5, 5, 8, 10, 1, 3, 4, 4, 4, 5, 1, 3, 4, 5, 6, 8, 9, 6, 7, 4, 6, 7, 8, 1, 5, 5, 4, 1, 10, 6, 1, 3, 4, 5, 3, 7, 9, 6, 4, 5, 10, 7, 8, 4, 8, 1, 4, 5, 7, 4, 7, 2, 1, 3, 6, 9, 7, 8, 5, 5, 5, 4, 5, 1, 7, 4, 7, 2, 3, 1, 3, 7, 2, 6, 7, 3, 3, 5, 9, 4, 8, 1, 2, 3, 5, 6, 7, 3, 6, 6, 8, 1, 5, 7, 10, 8, 5, 7, 2, 6, 1, 4, 6, 5, 7, 8, 4, 5, 6, 9, 1, 6, 2, 6, 1, 3, 5, 3, 6, 7, 6, 8, 6, 2, 3, 9, 1, 5, 6, 6, 6, 5, 6, 7, 3, 7, 2, 1, 1, 8, 3, 5, 4, 4, 1, 6, 9, 1, 5, 5, 6, 7, 9, 7, 1, 6, 6, 5, 9, 7, 10, 5, 6, 1, 2, 3, 4, 1, 6, 5, 6, 5, 7, 1, 1, 6, 1, 1, 4, 6, 9, 2, 5, 5, 8, 10, 5, 7, 10, 9, 4, 9, 10, 5, 6, 8, 7, 8, 5, 4, 4, 7, 4, 3, 10, 8, 4, 6, 9, 8, 1, 3, 1, 5, 7, 5, 9, 1, 6, 7, 5, 7, 5, 7, 8, 10, 1, 7, 9, 1, 3, 5, 2, 3, 1, 3, 5, 6, 9, 10, 1, 3, 5, 9, 5, 6, 9, 2, 7, 1, 5, 1, 4, 6, 1, 3, 4, 5, 7, 7, 1, 5, 1, 3, 6, 5, 1, 3, 6, 9, 7, 8, 6, 10, 3, 4, 7, 8, 4, 6, 7, 8, 1, 3, 5, 6, 1, 3, 7, 1, 3], \"Freq\": [0.7552095576761123, 0.8429993642313605, 0.14986655364113075, 0.8946181624934448, 0.04066446193152022, 0.7970955727045357, 0.5979179613578399, 0.2562505548676457, 0.08541685162254857, 0.046043051619891695, 0.9208610323978339, 0.9326954217436401, 0.9179577090369038, 0.732400127271806, 0.1464800254543612, 0.25269572523647926, 0.33692763364863904, 0.02105797710303994, 0.06317393130911982, 0.14740583972127957, 0.16846381682431952, 0.9545627266120543, 0.2300335756984656, 0.6901007270953968, 0.36528435676029947, 0.09132108919007487, 0.2739632675702246, 0.18264217838014973, 0.7738350228168052, 0.15476700456336104, 0.7947807273572244, 0.817532075394788, 0.905384261419473, 0.05325789773055724, 0.842656570303056, 0.9058698192765985, 0.07077107963098427, 0.6253466386984864, 0.3126733193492432, 0.7812444668403152, 0.04340247038001751, 0.17360988152007004, 0.8304965311786591, 0.9576219893400717, 0.28149192957026986, 0.6755806309686477, 0.10340086414342511, 0.8272069131474009, 0.6314827898304562, 0.280659017702425, 0.5054255926401208, 0.1263563981600302, 0.3158909954000755, 0.748790706052018, 0.2977191385678618, 0.6698680617776891, 0.9919949900782093, 0.411825711351301, 0.23532897791502913, 0.17649673343627187, 0.11766448895751457, 0.7086253586677377, 0.2362084528892459, 0.8619225637754214, 0.827038326930175, 0.9447350830754881, 0.5094131685550283, 0.4794476880517914, 0.552231818385536, 0.3865622728698752, 0.9311284271565455, 0.8740318502126277, 0.9876940264430086, 0.007777118318448887, 0.9511002056093782, 0.038044008224375134, 0.7984516864266131, 0.8225268128636529, 0.13708780214394214, 0.8719830765404987, 0.9247285794423119, 0.1910595719927995, 0.5731787159783984, 0.1910595719927995, 0.7712689370471001, 0.15425378740942, 0.08516202864172026, 0.591402976678613, 0.2791422049923053, 0.02838734288057342, 0.009462447626857808, 0.004731223813428904, 0.8965205200049159, 0.05603253250030724, 0.11913332429173196, 0.7147999457503917, 0.895709176261115, 0.16053633476194198, 0.5351211158731399, 0.26756055793656996, 0.9127660569861821, 0.8364113155531001, 0.08364113155531001, 0.9685341712817761, 0.01793581798669956, 0.5970519380323791, 0.2802488688723412, 0.10966260086309003, 0.5822324622386693, 0.14555811555966733, 0.14555811555966733, 0.9242687451846191, 0.8833482022893017, 0.6418543739456777, 0.275080445976719, 0.9525284566543193, 0.02721509876155198, 0.7891594821295318, 0.1753687738065626, 0.9398799602293304, 0.04028056972411416, 0.7948811916023508, 0.9238318628799068, 0.9185751780863181, 0.05863245817572243, 0.4885756384541245, 0.3664317288405934, 0.8942210607099055, 0.9858425453457128, 0.007824147185283436, 0.9184312861907119, 0.25607313264142284, 0.38410969896213426, 0.35210055738195645, 0.8981040544310975, 0.9251087559527914, 0.519539091724286, 0.17317969724142868, 0.17317969724142868, 0.8689836064550639, 0.09655373405056265, 0.9572961067797834, 0.9380124582002894, 0.7554371782103192, 0.8317891821038222, 0.1309340170862521, 0.7856041025175126, 0.9454653391090546, 0.772668496340496, 0.8527522216615042, 0.05685014811076695, 0.05685014811076695, 0.5296412261191189, 0.44136768843259905, 0.09932186226973756, 0.2979655868092127, 0.49660931134868785, 0.810790382286434, 0.9017376478450471, 0.6604199375632536, 0.2889337226839234, 0.9305640813269066, 0.3167740990404375, 0.5279568317340625, 0.457612621357646, 0.34320946601823454, 0.18399823057516898, 0.7359929223006759, 0.1588070401386197, 0.2598660656813777, 0.24542906203241227, 0.3176140802772394, 0.6501263853822514, 0.16253159634556286, 0.639421231530286, 0.319710615765143, 0.8913739389538093, 0.9280520445764053, 0.9647913287088342, 0.4897930827358328, 0.32652872182388853, 0.9559039512430013, 0.9715243185844892, 0.6158365587171571, 0.1539591396792893, 0.1539591396792893, 0.9712107405501716, 0.020811658726075107, 0.28648358997967327, 0.5729671799593465, 0.09549452999322443, 0.16874608115071488, 0.5062382434521446, 0.2812434685845248, 0.9090550847703197, 0.9580313881583766, 0.9104454286108066, 0.848172461798605, 0.2909941734973747, 0.14549708674868736, 0.5092398036204058, 0.6507419540478177, 0.1626854885119544, 0.8979386511019901, 0.8400889740940432, 0.5930509105692557, 0.3388862346110033, 0.958004821935898, 0.6681461818334645, 0.16703654545836613, 0.911837812676443, 0.6857119041848617, 0.17142797604621543, 0.9186062203939588, 0.9140621070348868, 0.8459814867076959, 0.14282804321039022, 0.9425246765919766, 0.6515802935084944, 0.24434261006568544, 0.6863070165458097, 0.17157675413645243, 0.8591557833441803, 0.1145541044458907, 0.8545540777337892, 0.5167475363574888, 0.3875606522681166, 0.364421189505574, 0.4373054274066888, 0.1457684758022296, 0.02429474596703827, 0.7317521301074958, 0.6923064749208798, 0.17307661873021996, 0.9496972073018117, 0.03748804765665047, 0.8985525456531925, 0.9855727009718108, 0.00782200556326834, 0.9718062895941895, 0.16027997341828146, 0.3205599468365629, 0.21370663122437525, 0.10685331561218762, 0.16027997341828146, 0.6242739629544717, 0.29989631553695206, 0.036721997820851275, 0.036721997820851275, 0.5158288249718577, 0.25791441248592883, 0.1719429416572859, 0.9321036008509653, 0.9014658801655571, 0.20057042251101986, 0.7354248825404062, 0.7233529086561974, 0.18083822716404935, 0.8130330665663352, 0.3015637143591612, 0.04020849524788816, 0.3015637143591612, 0.261355219111273, 0.10052123811972039, 0.7970957935655011, 0.9032815783241619, 0.8217960930329586, 0.3054255507204469, 0.6108511014408938, 0.07635638768011173, 0.8923535975409209, 0.4120937808108198, 0.2354821604633256, 0.1766116203474942, 0.1177410802316628, 0.1193047203376633, 0.7158283220259798, 0.2633429597991583, 0.5266859195983166, 0.95846228067284, 0.873330690047125, 0.9138967579706451, 0.050772042109480275, 0.11242892617446772, 0.7307880201340401, 0.05621446308723386, 0.9249843070808252, 0.2634807388489577, 0.2634807388489577, 0.2634807388489577, 0.13174036942447884, 0.2392876842220377, 0.717863052666113, 0.02392876842220377, 0.14829377457777107, 0.7414688728888553], \"Term\": [\"abhs\", \"alloy\", \"alloy\", \"aluminum\", \"aluminum\", \"american\", \"ansi\", \"ansi\", \"ansi\", \"astm\", \"astm\", \"attaching\", \"backing\", \"bit\", \"bit\", \"black\", \"black\", \"black\", \"black\", \"black\", \"black\", \"blade\", \"blk\", \"blk\", \"blue\", \"blue\", \"blue\", \"blue\", \"brand\", \"brand\", \"bright\", \"brown\", \"button\", \"button\", \"cable\", \"cap\", \"cap\", \"carbide\", \"carbide\", \"carbon\", \"carbon\", \"carbon\", \"cartridge\", \"change\", \"class\", \"class\", \"clear\", \"clear\", \"cloth\", \"cloth\", \"coarse\", \"coarse\", \"coarse\", \"coat\", \"coated\", \"coated\", \"cobalt\", \"collection\", \"collection\", \"collection\", \"collection\", \"color\", \"color\", \"cowhide\", \"cuff\", \"cut\", \"diam\", \"diam\", \"din\", \"din\", \"disc\", \"disposable\", \"drill\", \"drill\", \"drive\", \"drive\", \"dupont\", \"duty\", \"duty\", \"elastic\", \"fender\", \"file\", \"file\", \"file\", \"fine\", \"fine\", \"finish\", \"finish\", \"finish\", \"finish\", \"finish\", \"finish\", \"flat\", \"flat\", \"frame\", \"frame\", \"fully\", \"general\", \"general\", \"general\", \"glasses\", \"gloves\", \"gloves\", \"gold\", \"gold\", \"grade\", \"grade\", \"grade\", \"gray\", \"gray\", \"gray\", \"grit\", \"hand\", \"handle\", \"handle\", \"head\", \"head\", \"heavy\", \"heavy\", \"hex\", \"hex\", \"high\", \"holokrome\", \"inch\", \"inch\", \"ink\", \"ink\", \"insert\", \"jobber\", \"jobber\", \"knife\", \"length\", \"length\", \"length\", \"lock\", \"long\", \"loop\", \"loop\", \"loop\", \"low\", \"low\", \"ltr\", \"machine\", \"marafast\", \"marker\", \"material\", \"material\", \"max\", \"medium\", \"metal\", \"metal\", \"metal\", \"metric\", \"metric\", \"mil\", \"mil\", \"mil\", \"min\", \"nitrile\", \"nut\", \"nut\", \"nylon\", \"oal\", \"oal\", \"open\", \"open\", \"overall\", \"overall\", \"oxide\", \"oxide\", \"oxide\", \"oxide\", \"pack\", \"pack\", \"paint\", \"paint\", \"pair\", \"palm\", \"pan\", \"partially\", \"partially\", \"phillips\", \"plain\", \"plastic\", \"plastic\", \"plastic\", \"point\", \"point\", \"protection\", \"protection\", \"protection\", \"purpose\", \"purpose\", \"purpose\", \"qty\", \"quick\", \"reciprocating\", \"red\", \"resistant\", \"resistant\", \"resistant\", \"ribbon\", \"ribbon\", \"right\", \"rock\", \"roll\", \"roll\", \"rpm\", \"sae\", \"sae\", \"safety\", \"sanding\", \"sanding\", \"saw\", \"scratch\", \"screw\", \"screw\", \"screws\", \"series\", \"series\", \"shank\", \"shank\", \"sheet\", \"sheet\", \"shell\", \"single\", \"single\", \"size\", \"size\", \"size\", \"size\", \"slotted\", \"snap\", \"snap\", \"socket\", \"socket\", \"speed\", \"split\", \"split\", \"stainless\", \"standard\", \"standard\", \"standard\", \"standard\", \"standard\", \"steel\", \"steel\", \"steel\", \"steel\", \"straight\", \"straight\", \"straight\", \"straw\", \"tape\", \"thread\", \"thread\", \"threaded\", \"threaded\", \"tie\", \"type\", \"type\", \"type\", \"type\", \"type\", \"tyvek\", \"unbrako\", \"unlined\", \"usa\", \"usa\", \"usa\", \"use\", \"value\", \"value\", \"value\", \"value\", \"vinyl\", \"vinyl\", \"volt\", \"volt\", \"washer\", \"weighted\", \"white\", \"white\", \"wide\", \"wide\", \"wide\", \"wire\", \"yellow\", \"yellow\", \"yellow\", \"yellow\", \"zinc\", \"zinc\", \"zinc\", \"zinc-plated\", \"zinc-plated\"]}, \"R\": 30, \"lambda.step\": 0.01, \"plot.opts\": {\"xlab\": \"PC1\", \"ylab\": \"PC2\"}, \"topic.order\": [2, 5, 7, 1, 4, 8, 6, 10, 3, 9]};\n",
              "\n",
              "function LDAvis_load_lib(url, callback){\n",
              "  var s = document.createElement('script');\n",
              "  s.src = url;\n",
              "  s.async = true;\n",
              "  s.onreadystatechange = s.onload = callback;\n",
              "  s.onerror = function(){console.warn(\"failed to load library \" + url);};\n",
              "  document.getElementsByTagName(\"head\")[0].appendChild(s);\n",
              "}\n",
              "\n",
              "if(typeof(LDAvis) !== \"undefined\"){\n",
              "   // already loaded: just create the visualization\n",
              "   !function(LDAvis){\n",
              "       new LDAvis(\"#\" + \"ldavis_el58140428009664592571137035\", ldavis_el58140428009664592571137035_data);\n",
              "   }(LDAvis);\n",
              "}else if(typeof define === \"function\" && define.amd){\n",
              "   // require.js is available: use it to load d3/LDAvis\n",
              "   require.config({paths: {d3: \"https://d3js.org/d3.v5\"}});\n",
              "   require([\"d3\"], function(d3){\n",
              "      window.d3 = d3;\n",
              "      LDAvis_load_lib(\"https://cdn.jsdelivr.net/gh/bmabey/pyLDAvis@3.2.2/pyLDAvis/js/ldavis.v3.0.0.js\", function(){\n",
              "        new LDAvis(\"#\" + \"ldavis_el58140428009664592571137035\", ldavis_el58140428009664592571137035_data);\n",
              "      });\n",
              "    });\n",
              "}else{\n",
              "    // require.js not available: dynamically load d3 & LDAvis\n",
              "    LDAvis_load_lib(\"https://d3js.org/d3.v5.js\", function(){\n",
              "         LDAvis_load_lib(\"https://cdn.jsdelivr.net/gh/bmabey/pyLDAvis@3.2.2/pyLDAvis/js/ldavis.v3.0.0.js\", function(){\n",
              "                 new LDAvis(\"#\" + \"ldavis_el58140428009664592571137035\", ldavis_el58140428009664592571137035_data);\n",
              "            })\n",
              "         });\n",
              "}\n",
              "</script>"
            ],
            "text/plain": [
              "PreparedData(topic_coordinates=               x          y  topics  cluster       Freq\n",
              "topic                                                  \n",
              "1      32.420952   8.115230       1        1  27.771304\n",
              "4       0.648955  71.707100       2        1  25.734906\n",
              "6      71.019684   9.971006       3        1  10.505566\n",
              "0       3.785981  33.185135       4        1   8.419740\n",
              "3     -42.666500  -9.222070       5        1   7.773989\n",
              "7      -3.621689 -43.526516       6        1   6.718565\n",
              "5      -3.632402  -4.171708       7        1   5.357171\n",
              "9     -36.584400  35.804413       8        1   3.102140\n",
              "2      44.391380  50.615383       9        1   2.816079\n",
              "8      40.235809 -31.591665      10        1   1.800540, topic_info=       Term        Freq       Total Category  logprob  loglift\n",
              "102   point  144.000000  144.000000  Default  30.0000  30.0000\n",
              "39    drill  128.000000  128.000000  Default  29.0000  29.0000\n",
              "29   cobalt  127.000000  127.000000  Default  28.0000  28.0000\n",
              "68   jobber  127.000000  127.000000  Default  27.0000  27.0000\n",
              "135   steel  163.000000  163.000000  Default  26.0000  26.0000\n",
              "..      ...         ...         ...      ...      ...      ...\n",
              "146     usa    0.160796   26.192963  Topic10  -6.0648  -1.0760\n",
              "151  washer    0.160226   26.083447  Topic10  -6.0684  -1.0754\n",
              "18      cap    0.163809   70.650328  Topic10  -6.0462  -2.0497\n",
              "62      hex    0.163372   74.477596  Topic10  -6.0489  -2.1051\n",
              "40    drive    0.161203   78.856044  Topic10  -6.0623  -2.1756\n",
              "\n",
              "[426 rows x 6 columns], token_table=      Topic      Freq         Term\n",
              "term                              \n",
              "0         1  0.755210         abhs\n",
              "1         1  0.842999        alloy\n",
              "1         3  0.149867        alloy\n",
              "2         4  0.894618     aluminum\n",
              "2         9  0.040664     aluminum\n",
              "...     ...       ...          ...\n",
              "157       1  0.239288         zinc\n",
              "157       3  0.717863         zinc\n",
              "157       7  0.023929         zinc\n",
              "158       1  0.148294  zinc-plated\n",
              "158       3  0.741469  zinc-plated\n",
              "\n",
              "[296 rows x 3 columns], R=30, lambda_step=0.01, plot_opts={'xlab': 'PC1', 'ylab': 'PC2'}, topic_order=[2, 5, 7, 1, 4, 8, 6, 10, 3, 9])"
            ]
          },
          "metadata": {
            "tags": []
          },
          "execution_count": 85
        }
      ]
    },
    {
      "cell_type": "code",
      "metadata": {
        "id": "JIXpy9z0pacd"
      },
      "source": [
        ""
      ],
      "execution_count": null,
      "outputs": []
    }
  ]
}